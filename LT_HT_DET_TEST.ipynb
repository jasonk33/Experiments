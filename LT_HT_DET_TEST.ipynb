{
 "cells": [
  {
   "cell_type": "code",
   "execution_count": 1,
   "metadata": {
    "ExecuteTime": {
     "end_time": "2017-05-18T10:14:09.467542",
     "start_time": "2017-05-18T10:14:09.453851"
    },
    "collapsed": true,
    "scrolled": true
   },
   "outputs": [],
   "source": [
    "import holmes.experiment as Ex\n",
    "import tempfile\n",
    "import pprint\n",
    "import json\n",
    "import os\n",
    "from terrarium.flatten import flatten_dict, expand_dict\n",
    "import tempfile"
   ]
  },
  {
   "cell_type": "code",
   "execution_count": 5,
   "metadata": {},
   "outputs": [
    {
     "name": "stderr",
     "output_type": "stream",
     "text": [
      "2017-06-19 15:28:04,187 [INFO] [holmes.experiment.staging] Preparing holmes payload\n",
      "2017-06-19 15:28:04,189 [INFO] [holmes.experiment.staging] Cloning git:hudl/holmes\n",
      "2017-06-19 15:28:14,656 [INFO] [holmes.experiment.staging] Checking out git:hudl/holmes:2addf6c84ba0ca6544946a602bf943553d36b693\n",
      "2017-06-19 15:28:15,032 [INFO] [holmes.experiment.staging] Preparing distribution package\n",
      "2017-06-19 15:28:17,860 [INFO] [holmes.experiment.staging] Staging distribution package\n",
      "2017-06-19 15:28:17,862 [INFO] [holmes.experiment.staging] Commit staged\n",
      "2017-06-19 15:28:17,863 [INFO] [holmes.experiment.staging] Removing Holmes Directory\n",
      "2017-06-19 15:28:17,922 [INFO] [holmes.experiment.staging] Extracting default config from package\n"
     ]
    }
   ],
   "source": [
    "temp_dir_obj = tempfile.TemporaryDirectory()\n",
    "temp_dir = temp_dir_obj.name\n",
    "package_location = Ex.staging.prep_holmes_package(\n",
    "    staging_path=temp_dir, \n",
    "    commit_hash='2addf6c84ba0ca6544946a602bf943553d36b693'\n",
    ")\n",
    "\n",
    "detects_dict={}\n",
    "for video_data in Ex.test_data:\n",
    "    detects_dict[video_data['video_id']] = video_data['video_path'].replace('processed','detections')\n",
    "\n",
    "def_conf_path = Ex.staging.extract_default_config(package_location, temp_dir)\n",
    "\n",
    "with open(def_conf_path, 'r') as fp:\n",
    "    def_conf_dict = json.load(fp)\n",
    "\n",
    "new_def_conf_dicts={}\n",
    "list_dicts=[]\n",
    "for video_data in Ex.test_data:\n",
    "    new_def_conf_dict = def_conf_dict.copy()\n",
    "    detects_path = video_data['video_path'].replace('processed','detections').replace('.mp4', '.json')\n",
    "    new_def_conf_dict['detector_config'] = {\"source_path\": detects_path,\"_class_name\": \"PassThroughDetectorConfig\",\"batch_size\": 1}\n",
    "    new_def_conf_dict['video_config'] = video_data\n",
    "    new_def_conf_dict['video_config']['_class_name'] = 'RawVideoConfig'\n",
    "    list_dicts.append(new_def_conf_dict)"
   ]
  },
  {
   "cell_type": "code",
   "execution_count": 6,
   "metadata": {
    "code_folding": [],
    "collapsed": true
   },
   "outputs": [],
   "source": [
    "measurement_ids = ['M01-PS0304-001', 'M02-PP0214-000', 'M00-ChvUtd-000', 'M03-ER0429-001']\n",
    "lost_thresholds = [1]\n",
    "hungarian_thresholds = [14]\n",
    "minimum_detections = [9]"
   ]
  },
  {
   "cell_type": "code",
   "execution_count": 7,
   "metadata": {},
   "outputs": [
    {
     "name": "stdout",
     "output_type": "stream",
     "text": [
      "1 /var/folders/57/58_nn3s94l9f_jsjrzsd2h6mmwn1_p/T/tmpb5asu7xf/M00-AG0317-000-01-14-09.json\n"
     ]
    }
   ],
   "source": [
    "configs = []\n",
    "list_configs=[]\n",
    "for lt in lost_thresholds:\n",
    "    for ht in hungarian_thresholds:\n",
    "        for min_det in minimum_detections:\n",
    "            for config in list_dicts:\n",
    "                current_config_dict = config.copy()\n",
    "                parameter_map = {\"tracker_config.tracklet_config.lost_threshold\": lt,\"tracker_config.associator_config._class_name\": 'SpatialAssociatorConfig', \"tracker_config.associator_config.threshold\": ht}\n",
    "                flat_dict = flatten_dict(current_config_dict)\n",
    "                flat_dict.update(parameter_map)\n",
    "                updated_config_dict = expand_dict(flat_dict)\n",
    "                updated_config_dict[\"filter_configs\"] = [{\"_class_name\": 'BbAreaFilterConfig', 'min_detections': min_det, \"max_pixel_area\": 5000, \"min_pixel_area\": 100}]\n",
    "                configs.append(updated_config_dict)\n",
    "                file_name = os.path.join(temp_dir, \"M{:02d}-{}-{:02d}-{:02d}-{:02d}.json\".format(len(list_configs), \n",
    "                                                    current_config_dict['video_config']['video_id'], lt, ht, min_det))\n",
    "                list_configs.append(file_name)\n",
    "                with open(file_name, 'w') as f:\n",
    "                    json.dump(updated_config_dict, f, indent=2)\n",
    "print(len(list_configs), list_configs[0])"
   ]
  },
  {
   "cell_type": "code",
   "execution_count": 8,
   "metadata": {},
   "outputs": [
    {
     "name": "stderr",
     "output_type": "stream",
     "text": [
      "2017-06-19 15:28:30,146 [INFO] [holmes.experiment.base] Verifying AWS staging area: s3://hudl-holmes/experiments/PTA-95-LT-HT-DET-2-5\n"
     ]
    }
   ],
   "source": [
    "experiment = Ex.AWSExperiment(\n",
    "    experiment_id=\"PTA-95-LT-HT-DET-2-5\", job_queue=Ex.AWSComputeQueue.cpu_queue\n",
    ")\n",
    "\n",
    "for i, config_path in enumerate(list_configs):\n",
    "    meas_id = os.path.basename(config_path).replace(\".json\", \"\")\n",
    "    experiment.add_measurement(\n",
    "        Ex.AWSMeasurement(\n",
    "            experiment_id = \"PTA-95-LT-HT-DET-2-5\",\n",
    "            measurement_id = meas_id,\n",
    "            job_queue = Ex.AWSComputeQueue.cpu_queue,\n",
    "            package_path = package_location,\n",
    "            config_path = config_path\n",
    "        )\n",
    "    )"
   ]
  },
  {
   "cell_type": "code",
   "execution_count": 9,
   "metadata": {
    "collapsed": true
   },
   "outputs": [],
   "source": [
    "import boto3\n",
    "experiment._batch_client = boto3.client('batch', region_name='us-east-1')"
   ]
  },
  {
   "cell_type": "code",
   "execution_count": 10,
   "metadata": {},
   "outputs": [
    {
     "name": "stderr",
     "output_type": "stream",
     "text": [
      "2017-06-19 15:28:35,597 [INFO] [holmes.experiment.base] staging measurement M00-AG0317-000-01-14-09\n",
      "2017-06-19 15:28:35,997 [INFO] [holmes.experiment.base] staging file, source=/var/folders/57/58_nn3s94l9f_jsjrzsd2h6mmwn1_p/T/tmpb5asu7xf/M00-AG0317-000-01-14-09.json, destination=s3://hudl-holmes/experiments/PTA-95-LT-HT-DET-2-5/deps/M00-AG0317-000-01-14-09.json\n",
      "2017-06-19 15:28:36,339 [INFO] [holmes.experiment.base] staging file, source=/var/folders/57/58_nn3s94l9f_jsjrzsd2h6mmwn1_p/T/tmpb5asu7xf/2addf6c84ba0ca6544946a602bf943553d36b693.tar.gz, destination=s3://hudl-holmes/experiments/PTA-95-LT-HT-DET-2-5/deps/2addf6c84ba0ca6544946a602bf943553d36b693.tar.gz\n"
     ]
    },
    {
     "data": {
      "text/plain": [
       "{'experiment_id': 'PTA-95-LT-HT-DET-2-5',\n",
       " 'job_queue': 'holmes-research-queue-cpu',\n",
       " 'measurements': [{'config_path': 's3://hudl-holmes/experiments/PTA-95-LT-HT-DET-2-5/deps/M00-AG0317-000-01-14-09.json',\n",
       "   'experiment_id': 'PTA-95-LT-HT-DET-2-5',\n",
       "   'job_id': 'PTA-95-LT-HT-DET-2-5-M00-AG0317-000-01-14-09',\n",
       "   'job_queue': 'holmes-research-queue-cpu',\n",
       "   'launch_telemetry': {},\n",
       "   'measurement_id': 'M00-AG0317-000-01-14-09',\n",
       "   'package_path': 's3://hudl-holmes/experiments/PTA-95-LT-HT-DET-2-5/deps/2addf6c84ba0ca6544946a602bf943553d36b693.tar.gz'}]}"
      ]
     },
     "execution_count": 10,
     "metadata": {},
     "output_type": "execute_result"
    }
   ],
   "source": [
    "experiment.stage_experiment()"
   ]
  },
  {
   "cell_type": "code",
   "execution_count": 11,
   "metadata": {
    "hideOutput": false,
    "scrolled": true
   },
   "outputs": [
    {
     "name": "stderr",
     "output_type": "stream",
     "text": [
      "2017-06-19 15:28:53,074 [INFO] [holmes.experiment.base] launching PTA-95-LT-HT-DET-2-5-M00-AG0317-000-01-14-09\n"
     ]
    },
    {
     "data": {
      "text/plain": [
       "{'experiment_id': 'PTA-95-LT-HT-DET-2-5',\n",
       " 'job_queue': 'holmes-research-queue-cpu',\n",
       " 'measurements': [{'config_path': 's3://hudl-holmes/experiments/PTA-95-LT-HT-DET-2-5/deps/M00-AG0317-000-01-14-09.json',\n",
       "   'experiment_id': 'PTA-95-LT-HT-DET-2-5',\n",
       "   'job_id': 'PTA-95-LT-HT-DET-2-5-M00-AG0317-000-01-14-09',\n",
       "   'job_queue': 'holmes-research-queue-cpu',\n",
       "   'launch_telemetry': {'ResponseMetadata': {'HTTPHeaders': {'connection': 'keep-alive',\n",
       "      'content-length': '105',\n",
       "      'content-type': 'application/json',\n",
       "      'date': 'Mon, 19 Jun 2017 20:26:36 GMT',\n",
       "      'via': '1.1 c157dc52e9f3c011b626279fe96418f8.cloudfront.net (CloudFront)',\n",
       "      'x-amz-cf-id': 'pe3pcGQtGfVu693iKnL5Yeby2yXU4rTKtniVmmmIZqf8z-MZz977Fw==',\n",
       "      'x-amzn-requestid': '97c04925-552d-11e7-af5a-6bb627506715',\n",
       "      'x-amzn-trace-id': 'sampled=0;root=1-5948337c-f23b9fadf01d4085c80bc691',\n",
       "      'x-cache': 'Miss from cloudfront'},\n",
       "     'HTTPStatusCode': 200,\n",
       "     'RequestId': '97c04925-552d-11e7-af5a-6bb627506715',\n",
       "     'RetryAttempts': 0},\n",
       "    'jobId': 'a47831c8-2c51-4f02-913d-6c53e4bcc466',\n",
       "    'jobName': 'PTA-95-LT-HT-DET-2-5-M00-AG0317-000-01-14-09'},\n",
       "   'measurement_id': 'M00-AG0317-000-01-14-09',\n",
       "   'package_path': 's3://hudl-holmes/experiments/PTA-95-LT-HT-DET-2-5/deps/2addf6c84ba0ca6544946a602bf943553d36b693.tar.gz'}]}"
      ]
     },
     "execution_count": 11,
     "metadata": {},
     "output_type": "execute_result"
    }
   ],
   "source": [
    "experiment.launch_experiment()"
   ]
  },
  {
   "cell_type": "code",
   "execution_count": 9,
   "metadata": {
    "collapsed": true
   },
   "outputs": [],
   "source": [
    "from holmes.io import Retrieve\n",
    "import re"
   ]
  },
  {
   "cell_type": "code",
   "execution_count": 10,
   "metadata": {
    "collapsed": true
   },
   "outputs": [],
   "source": [
    "paths=[]\n",
    "for m in experiment.measurements:\n",
    "    measurement_path = m.__dict__['_s3_measurement_path']\n",
    "    video_id = ''.join(re.match(r'.*/M\\d{2}-(\\w+)(-{1})(\\d+)-.*', measurement_path).groups())\n",
    "    path = m.__dict__['_s3_measurement_path']+'/trajectory_results_{}.json'.format(video_id)\n",
    "    paths.append(path)"
   ]
  },
  {
   "cell_type": "code",
   "execution_count": 11,
   "metadata": {
    "collapsed": true
   },
   "outputs": [],
   "source": [
    "import pandas as pd\n",
    "import numpy as np"
   ]
  },
  {
   "cell_type": "code",
   "execution_count": 14,
   "metadata": {
    "collapsed": true
   },
   "outputs": [],
   "source": [
    "data = pd.DataFrame({'game':[],'mota':[],'fnr':[],'fpr':[],'mr':[],'lt':[],'ht':[],'det':[],'job_id':[]})\n",
    "for i,j in enumerate([Retrieve(j) for j in paths]):\n",
    "    with open(j.local_path, 'r') as fp:\n",
    "        results = json.load(fp)\n",
    "        game = results['video_id'][0:6]\n",
    "        mota = results['MOTA']\n",
    "        fnr = results['False negative rate']\n",
    "        fpr = results['False positive rate']\n",
    "        mr = results['Mismatch rate']\n",
    "        lt = configs[i][\"tracker_config\"][\"tracklet_config\"][\"lost_threshold\"]\n",
    "        ht = configs[i]['tracker_config']['associator_config']['threshold']\n",
    "        det = configs[i]['filter_configs'][0]['min_detections']\n",
    "        job_id = paths[i][29:73].replace('/','-')\n",
    "        row = pd.DataFrame({'game':[game],'mota':[mota],'fnr':[fnr],'fpr':[fpr],'mr':[mr],'lt':[lt],'ht':[ht],\n",
    "                            'det':[det],'job_id':[job_id]})\n",
    "        data = data.append(row)\n",
    "data[['lt','ht','det']] = data[['lt','ht','det']].applymap(np.int64)"
   ]
  },
  {
   "cell_type": "code",
   "execution_count": 20,
   "metadata": {
    "collapsed": true
   },
   "outputs": [],
   "source": [
    "from bokeh.charts import Scatter\n",
    "from bokeh.io import show, output_notebook\n",
    "from bokeh.layouts import column, row"
   ]
  },
  {
   "cell_type": "code",
   "execution_count": 17,
   "metadata": {},
   "outputs": [
    {
     "data": {
      "text/html": [
       "\n",
       "    <div class=\"bk-root\">\n",
       "        <a href=\"http://bokeh.pydata.org\" target=\"_blank\" class=\"bk-logo bk-logo-small bk-logo-notebook\"></a>\n",
       "        <span id=\"18640a88-22a9-4ead-82b8-48aede6c7b20\">Loading BokehJS ...</span>\n",
       "    </div>"
      ]
     },
     "metadata": {},
     "output_type": "display_data"
    },
    {
     "data": {
      "application/javascript": [
       "\n",
       "(function(global) {\n",
       "  function now() {\n",
       "    return new Date();\n",
       "  }\n",
       "\n",
       "  var force = true;\n",
       "\n",
       "  if (typeof (window._bokeh_onload_callbacks) === \"undefined\" || force === true) {\n",
       "    window._bokeh_onload_callbacks = [];\n",
       "    window._bokeh_is_loading = undefined;\n",
       "  }\n",
       "\n",
       "\n",
       "  \n",
       "  if (typeof (window._bokeh_timeout) === \"undefined\" || force === true) {\n",
       "    window._bokeh_timeout = Date.now() + 5000;\n",
       "    window._bokeh_failed_load = false;\n",
       "  }\n",
       "\n",
       "  var NB_LOAD_WARNING = {'data': {'text/html':\n",
       "     \"<div style='background-color: #fdd'>\\n\"+\n",
       "     \"<p>\\n\"+\n",
       "     \"BokehJS does not appear to have successfully loaded. If loading BokehJS from CDN, this \\n\"+\n",
       "     \"may be due to a slow or bad network connection. Possible fixes:\\n\"+\n",
       "     \"</p>\\n\"+\n",
       "     \"<ul>\\n\"+\n",
       "     \"<li>re-rerun `output_notebook()` to attempt to load from CDN again, or</li>\\n\"+\n",
       "     \"<li>use INLINE resources instead, as so:</li>\\n\"+\n",
       "     \"</ul>\\n\"+\n",
       "     \"<code>\\n\"+\n",
       "     \"from bokeh.resources import INLINE\\n\"+\n",
       "     \"output_notebook(resources=INLINE)\\n\"+\n",
       "     \"</code>\\n\"+\n",
       "     \"</div>\"}};\n",
       "\n",
       "  function display_loaded() {\n",
       "    if (window.Bokeh !== undefined) {\n",
       "      var el = document.getElementById(\"18640a88-22a9-4ead-82b8-48aede6c7b20\");\n",
       "      el.textContent = \"BokehJS \" + Bokeh.version + \" successfully loaded.\";\n",
       "    } else if (Date.now() < window._bokeh_timeout) {\n",
       "      setTimeout(display_loaded, 100)\n",
       "    }\n",
       "  }\n",
       "\n",
       "  function run_callbacks() {\n",
       "    try {\n",
       "      window._bokeh_onload_callbacks.forEach(function(callback) { callback() });\n",
       "    }\n",
       "    finally {\n",
       "      delete window._bokeh_onload_callbacks\n",
       "    }\n",
       "    console.info(\"Bokeh: all callbacks have finished\");\n",
       "  }\n",
       "\n",
       "  function load_libs(js_urls, callback) {\n",
       "    window._bokeh_onload_callbacks.push(callback);\n",
       "    if (window._bokeh_is_loading > 0) {\n",
       "      console.log(\"Bokeh: BokehJS is being loaded, scheduling callback at\", now());\n",
       "      return null;\n",
       "    }\n",
       "    if (js_urls == null || js_urls.length === 0) {\n",
       "      run_callbacks();\n",
       "      return null;\n",
       "    }\n",
       "    console.log(\"Bokeh: BokehJS not loaded, scheduling load and callback at\", now());\n",
       "    window._bokeh_is_loading = js_urls.length;\n",
       "    for (var i = 0; i < js_urls.length; i++) {\n",
       "      var url = js_urls[i];\n",
       "      var s = document.createElement('script');\n",
       "      s.src = url;\n",
       "      s.async = false;\n",
       "      s.onreadystatechange = s.onload = function() {\n",
       "        window._bokeh_is_loading--;\n",
       "        if (window._bokeh_is_loading === 0) {\n",
       "          console.log(\"Bokeh: all BokehJS libraries loaded\");\n",
       "          run_callbacks()\n",
       "        }\n",
       "      };\n",
       "      s.onerror = function() {\n",
       "        console.warn(\"failed to load library \" + url);\n",
       "      };\n",
       "      console.log(\"Bokeh: injecting script tag for BokehJS library: \", url);\n",
       "      document.getElementsByTagName(\"head\")[0].appendChild(s);\n",
       "    }\n",
       "  };var element = document.getElementById(\"18640a88-22a9-4ead-82b8-48aede6c7b20\");\n",
       "  if (element == null) {\n",
       "    console.log(\"Bokeh: ERROR: autoload.js configured with elementid '18640a88-22a9-4ead-82b8-48aede6c7b20' but no matching script tag was found. \")\n",
       "    return false;\n",
       "  }\n",
       "\n",
       "  var js_urls = [\"https://cdn.pydata.org/bokeh/release/bokeh-0.12.6.min.js\", \"https://cdn.pydata.org/bokeh/release/bokeh-widgets-0.12.6.min.js\"];\n",
       "\n",
       "  var inline_js = [\n",
       "    function(Bokeh) {\n",
       "      Bokeh.set_log_level(\"info\");\n",
       "    },\n",
       "    \n",
       "    function(Bokeh) {\n",
       "      \n",
       "    },\n",
       "    \n",
       "    function(Bokeh) {\n",
       "      \n",
       "      document.getElementById(\"18640a88-22a9-4ead-82b8-48aede6c7b20\").textContent = \"BokehJS is loading...\";\n",
       "    },\n",
       "    function(Bokeh) {\n",
       "      console.log(\"Bokeh: injecting CSS: https://cdn.pydata.org/bokeh/release/bokeh-0.12.6.min.css\");\n",
       "      Bokeh.embed.inject_css(\"https://cdn.pydata.org/bokeh/release/bokeh-0.12.6.min.css\");\n",
       "      console.log(\"Bokeh: injecting CSS: https://cdn.pydata.org/bokeh/release/bokeh-widgets-0.12.6.min.css\");\n",
       "      Bokeh.embed.inject_css(\"https://cdn.pydata.org/bokeh/release/bokeh-widgets-0.12.6.min.css\");\n",
       "    }\n",
       "  ];\n",
       "\n",
       "  function run_inline_js() {\n",
       "    \n",
       "    if ((window.Bokeh !== undefined) || (force === true)) {\n",
       "      for (var i = 0; i < inline_js.length; i++) {\n",
       "        inline_js[i](window.Bokeh);\n",
       "      }if (force === true) {\n",
       "        display_loaded();\n",
       "      }} else if (Date.now() < window._bokeh_timeout) {\n",
       "      setTimeout(run_inline_js, 100);\n",
       "    } else if (!window._bokeh_failed_load) {\n",
       "      console.log(\"Bokeh: BokehJS failed to load within specified timeout.\");\n",
       "      window._bokeh_failed_load = true;\n",
       "    } else if (force !== true) {\n",
       "      var cell = $(document.getElementById(\"18640a88-22a9-4ead-82b8-48aede6c7b20\")).parents('.cell').data().cell;\n",
       "      cell.output_area.append_execute_result(NB_LOAD_WARNING)\n",
       "    }\n",
       "\n",
       "  }\n",
       "\n",
       "  if (window._bokeh_is_loading === 0) {\n",
       "    console.log(\"Bokeh: BokehJS loaded, going straight to plotting\");\n",
       "    run_inline_js();\n",
       "  } else {\n",
       "    load_libs(js_urls, function() {\n",
       "      console.log(\"Bokeh: BokehJS plotting callback run at\", now());\n",
       "      run_inline_js();\n",
       "    });\n",
       "  }\n",
       "}(this));"
      ]
     },
     "metadata": {},
     "output_type": "display_data"
    }
   ],
   "source": [
    "output_notebook()"
   ]
  },
  {
   "cell_type": "code",
   "execution_count": 18,
   "metadata": {},
   "outputs": [
    {
     "data": {
      "text/html": [
       "<div>\n",
       "<style>\n",
       "    .dataframe thead tr:only-child th {\n",
       "        text-align: right;\n",
       "    }\n",
       "\n",
       "    .dataframe thead th {\n",
       "        text-align: left;\n",
       "    }\n",
       "\n",
       "    .dataframe tbody tr th {\n",
       "        vertical-align: top;\n",
       "    }\n",
       "</style>\n",
       "<table border=\"1\" class=\"dataframe\">\n",
       "  <thead>\n",
       "    <tr style=\"text-align: right;\">\n",
       "      <th></th>\n",
       "      <th></th>\n",
       "      <th></th>\n",
       "      <th>mota</th>\n",
       "      <th>lost</th>\n",
       "      <th>hungarian</th>\n",
       "      <th>detections</th>\n",
       "      <th>fpr</th>\n",
       "      <th>fnr</th>\n",
       "      <th>mr</th>\n",
       "    </tr>\n",
       "    <tr>\n",
       "      <th>ht</th>\n",
       "      <th>lt</th>\n",
       "      <th>det</th>\n",
       "      <th></th>\n",
       "      <th></th>\n",
       "      <th></th>\n",
       "      <th></th>\n",
       "      <th></th>\n",
       "      <th></th>\n",
       "      <th></th>\n",
       "    </tr>\n",
       "  </thead>\n",
       "  <tbody>\n",
       "    <tr>\n",
       "      <th rowspan=\"4\" valign=\"top\">12</th>\n",
       "      <th rowspan=\"4\" valign=\"top\">1</th>\n",
       "      <th>7</th>\n",
       "      <td>0.778357</td>\n",
       "      <td>1</td>\n",
       "      <td>12</td>\n",
       "      <td>7</td>\n",
       "      <td>0.053068</td>\n",
       "      <td>0.118218</td>\n",
       "      <td>0.013881</td>\n",
       "    </tr>\n",
       "    <tr>\n",
       "      <th>9</th>\n",
       "      <td>0.779345</td>\n",
       "      <td>1</td>\n",
       "      <td>12</td>\n",
       "      <td>9</td>\n",
       "      <td>0.051355</td>\n",
       "      <td>0.123610</td>\n",
       "      <td>0.012886</td>\n",
       "    </tr>\n",
       "    <tr>\n",
       "      <th>11</th>\n",
       "      <td>0.779020</td>\n",
       "      <td>1</td>\n",
       "      <td>12</td>\n",
       "      <td>11</td>\n",
       "      <td>0.049529</td>\n",
       "      <td>0.129985</td>\n",
       "      <td>0.011908</td>\n",
       "    </tr>\n",
       "    <tr>\n",
       "      <th>13</th>\n",
       "      <td>0.777550</td>\n",
       "      <td>1</td>\n",
       "      <td>12</td>\n",
       "      <td>13</td>\n",
       "      <td>0.048260</td>\n",
       "      <td>0.136265</td>\n",
       "      <td>0.011140</td>\n",
       "    </tr>\n",
       "    <tr>\n",
       "      <th rowspan=\"4\" valign=\"top\">14</th>\n",
       "      <th rowspan=\"4\" valign=\"top\">1</th>\n",
       "      <th>7</th>\n",
       "      <td>0.778466</td>\n",
       "      <td>1</td>\n",
       "      <td>14</td>\n",
       "      <td>7</td>\n",
       "      <td>0.054125</td>\n",
       "      <td>0.116074</td>\n",
       "      <td>0.013570</td>\n",
       "    </tr>\n",
       "    <tr>\n",
       "      <th>9</th>\n",
       "      <td>0.780031</td>\n",
       "      <td>1</td>\n",
       "      <td>14</td>\n",
       "      <td>9</td>\n",
       "      <td>0.052325</td>\n",
       "      <td>0.120767</td>\n",
       "      <td>0.012645</td>\n",
       "    </tr>\n",
       "    <tr>\n",
       "      <th>11</th>\n",
       "      <td>0.779838</td>\n",
       "      <td>1</td>\n",
       "      <td>14</td>\n",
       "      <td>11</td>\n",
       "      <td>0.050858</td>\n",
       "      <td>0.126252</td>\n",
       "      <td>0.011842</td>\n",
       "    </tr>\n",
       "    <tr>\n",
       "      <th>13</th>\n",
       "      <td>0.779038</td>\n",
       "      <td>1</td>\n",
       "      <td>14</td>\n",
       "      <td>13</td>\n",
       "      <td>0.049536</td>\n",
       "      <td>0.131797</td>\n",
       "      <td>0.011128</td>\n",
       "    </tr>\n",
       "    <tr>\n",
       "      <th rowspan=\"4\" valign=\"top\">16</th>\n",
       "      <th rowspan=\"4\" valign=\"top\">1</th>\n",
       "      <th>7</th>\n",
       "      <td>0.778380</td>\n",
       "      <td>1</td>\n",
       "      <td>16</td>\n",
       "      <td>7</td>\n",
       "      <td>0.054516</td>\n",
       "      <td>0.114997</td>\n",
       "      <td>0.013476</td>\n",
       "    </tr>\n",
       "    <tr>\n",
       "      <th>9</th>\n",
       "      <td>0.779782</td>\n",
       "      <td>1</td>\n",
       "      <td>16</td>\n",
       "      <td>9</td>\n",
       "      <td>0.052942</td>\n",
       "      <td>0.119432</td>\n",
       "      <td>0.012618</td>\n",
       "    </tr>\n",
       "    <tr>\n",
       "      <th>11</th>\n",
       "      <td>0.779955</td>\n",
       "      <td>1</td>\n",
       "      <td>16</td>\n",
       "      <td>11</td>\n",
       "      <td>0.051482</td>\n",
       "      <td>0.124359</td>\n",
       "      <td>0.011872</td>\n",
       "    </tr>\n",
       "    <tr>\n",
       "      <th>13</th>\n",
       "      <td>0.779536</td>\n",
       "      <td>1</td>\n",
       "      <td>16</td>\n",
       "      <td>13</td>\n",
       "      <td>0.050182</td>\n",
       "      <td>0.129535</td>\n",
       "      <td>0.011159</td>\n",
       "    </tr>\n",
       "    <tr>\n",
       "      <th rowspan=\"4\" valign=\"top\">18</th>\n",
       "      <th rowspan=\"4\" valign=\"top\">1</th>\n",
       "      <th>7</th>\n",
       "      <td>0.778113</td>\n",
       "      <td>1</td>\n",
       "      <td>18</td>\n",
       "      <td>7</td>\n",
       "      <td>0.054851</td>\n",
       "      <td>0.114387</td>\n",
       "      <td>0.013471</td>\n",
       "    </tr>\n",
       "    <tr>\n",
       "      <th>9</th>\n",
       "      <td>0.779537</td>\n",
       "      <td>1</td>\n",
       "      <td>18</td>\n",
       "      <td>9</td>\n",
       "      <td>0.053248</td>\n",
       "      <td>0.118573</td>\n",
       "      <td>0.012659</td>\n",
       "    </tr>\n",
       "    <tr>\n",
       "      <th>11</th>\n",
       "      <td>0.779987</td>\n",
       "      <td>1</td>\n",
       "      <td>18</td>\n",
       "      <td>11</td>\n",
       "      <td>0.051769</td>\n",
       "      <td>0.123196</td>\n",
       "      <td>0.011932</td>\n",
       "    </tr>\n",
       "    <tr>\n",
       "      <th>13</th>\n",
       "      <td>0.779308</td>\n",
       "      <td>1</td>\n",
       "      <td>18</td>\n",
       "      <td>13</td>\n",
       "      <td>0.050671</td>\n",
       "      <td>0.128185</td>\n",
       "      <td>0.011299</td>\n",
       "    </tr>\n",
       "  </tbody>\n",
       "</table>\n",
       "</div>"
      ],
      "text/plain": [
       "               mota  lost  hungarian  detections       fpr       fnr        mr\n",
       "ht lt det                                                                     \n",
       "12 1  7    0.778357     1         12           7  0.053068  0.118218  0.013881\n",
       "      9    0.779345     1         12           9  0.051355  0.123610  0.012886\n",
       "      11   0.779020     1         12          11  0.049529  0.129985  0.011908\n",
       "      13   0.777550     1         12          13  0.048260  0.136265  0.011140\n",
       "14 1  7    0.778466     1         14           7  0.054125  0.116074  0.013570\n",
       "      9    0.780031     1         14           9  0.052325  0.120767  0.012645\n",
       "      11   0.779838     1         14          11  0.050858  0.126252  0.011842\n",
       "      13   0.779038     1         14          13  0.049536  0.131797  0.011128\n",
       "16 1  7    0.778380     1         16           7  0.054516  0.114997  0.013476\n",
       "      9    0.779782     1         16           9  0.052942  0.119432  0.012618\n",
       "      11   0.779955     1         16          11  0.051482  0.124359  0.011872\n",
       "      13   0.779536     1         16          13  0.050182  0.129535  0.011159\n",
       "18 1  7    0.778113     1         18           7  0.054851  0.114387  0.013471\n",
       "      9    0.779537     1         18           9  0.053248  0.118573  0.012659\n",
       "      11   0.779987     1         18          11  0.051769  0.123196  0.011932\n",
       "      13   0.779308     1         18          13  0.050671  0.128185  0.011299"
      ]
     },
     "execution_count": 18,
     "metadata": {},
     "output_type": "execute_result"
    }
   ],
   "source": [
    "data_lt_ht_det = data.copy()\n",
    "data_lt_ht_det['lost'] = data_lt_ht_det['lt']\n",
    "data_lt_ht_det['hungarian'] = data_lt_ht_det['ht']\n",
    "data_lt_ht_det['detections'] = data_lt_ht_det['det']\n",
    "data_lt_ht_det = data_lt_ht_det.loc[:,['mota','ht', 'lt', 'det', 'lost', 'hungarian', 'detections','fpr','fnr','mr']].groupby(['ht','lt','det']).mean()\n",
    "data_lt_ht_det"
   ]
  },
  {
   "cell_type": "code",
   "execution_count": 25,
   "metadata": {},
   "outputs": [
    {
     "data": {
      "text/plain": [
       "game\n",
       "ChvUtd    0.797572\n",
       "ER0429    0.678067\n",
       "PP0214    0.873521\n",
       "PS0304    0.770965\n",
       "Name: mota, dtype: float64"
      ]
     },
     "execution_count": 25,
     "metadata": {},
     "output_type": "execute_result"
    }
   ],
   "source": [
    "data[data['det']==9][data[data['det']==9]['ht']==14].groupby(['game']).mean()['mota']"
   ]
  },
  {
   "cell_type": "code",
   "execution_count": 19,
   "metadata": {},
   "outputs": [
    {
     "data": {
      "text/html": [
       "\n",
       "\n",
       "    <div class=\"bk-root\">\n",
       "        <div class=\"bk-plotdiv\" id=\"023ac51c-080d-4f17-9757-09a4e6aab5de\"></div>\n",
       "    </div>\n",
       "<script type=\"text/javascript\">\n",
       "  \n",
       "  (function(global) {\n",
       "    function now() {\n",
       "      return new Date();\n",
       "    }\n",
       "  \n",
       "    var force = false;\n",
       "  \n",
       "    if (typeof (window._bokeh_onload_callbacks) === \"undefined\" || force === true) {\n",
       "      window._bokeh_onload_callbacks = [];\n",
       "      window._bokeh_is_loading = undefined;\n",
       "    }\n",
       "  \n",
       "  \n",
       "    \n",
       "    if (typeof (window._bokeh_timeout) === \"undefined\" || force === true) {\n",
       "      window._bokeh_timeout = Date.now() + 0;\n",
       "      window._bokeh_failed_load = false;\n",
       "    }\n",
       "  \n",
       "    var NB_LOAD_WARNING = {'data': {'text/html':\n",
       "       \"<div style='background-color: #fdd'>\\n\"+\n",
       "       \"<p>\\n\"+\n",
       "       \"BokehJS does not appear to have successfully loaded. If loading BokehJS from CDN, this \\n\"+\n",
       "       \"may be due to a slow or bad network connection. Possible fixes:\\n\"+\n",
       "       \"</p>\\n\"+\n",
       "       \"<ul>\\n\"+\n",
       "       \"<li>re-rerun `output_notebook()` to attempt to load from CDN again, or</li>\\n\"+\n",
       "       \"<li>use INLINE resources instead, as so:</li>\\n\"+\n",
       "       \"</ul>\\n\"+\n",
       "       \"<code>\\n\"+\n",
       "       \"from bokeh.resources import INLINE\\n\"+\n",
       "       \"output_notebook(resources=INLINE)\\n\"+\n",
       "       \"</code>\\n\"+\n",
       "       \"</div>\"}};\n",
       "  \n",
       "    function display_loaded() {\n",
       "      if (window.Bokeh !== undefined) {\n",
       "        var el = document.getElementById(\"023ac51c-080d-4f17-9757-09a4e6aab5de\");\n",
       "        el.textContent = \"BokehJS \" + Bokeh.version + \" successfully loaded.\";\n",
       "      } else if (Date.now() < window._bokeh_timeout) {\n",
       "        setTimeout(display_loaded, 100)\n",
       "      }\n",
       "    }\n",
       "  \n",
       "    function run_callbacks() {\n",
       "      try {\n",
       "        window._bokeh_onload_callbacks.forEach(function(callback) { callback() });\n",
       "      }\n",
       "      finally {\n",
       "        delete window._bokeh_onload_callbacks\n",
       "      }\n",
       "      console.info(\"Bokeh: all callbacks have finished\");\n",
       "    }\n",
       "  \n",
       "    function load_libs(js_urls, callback) {\n",
       "      window._bokeh_onload_callbacks.push(callback);\n",
       "      if (window._bokeh_is_loading > 0) {\n",
       "        console.log(\"Bokeh: BokehJS is being loaded, scheduling callback at\", now());\n",
       "        return null;\n",
       "      }\n",
       "      if (js_urls == null || js_urls.length === 0) {\n",
       "        run_callbacks();\n",
       "        return null;\n",
       "      }\n",
       "      console.log(\"Bokeh: BokehJS not loaded, scheduling load and callback at\", now());\n",
       "      window._bokeh_is_loading = js_urls.length;\n",
       "      for (var i = 0; i < js_urls.length; i++) {\n",
       "        var url = js_urls[i];\n",
       "        var s = document.createElement('script');\n",
       "        s.src = url;\n",
       "        s.async = false;\n",
       "        s.onreadystatechange = s.onload = function() {\n",
       "          window._bokeh_is_loading--;\n",
       "          if (window._bokeh_is_loading === 0) {\n",
       "            console.log(\"Bokeh: all BokehJS libraries loaded\");\n",
       "            run_callbacks()\n",
       "          }\n",
       "        };\n",
       "        s.onerror = function() {\n",
       "          console.warn(\"failed to load library \" + url);\n",
       "        };\n",
       "        console.log(\"Bokeh: injecting script tag for BokehJS library: \", url);\n",
       "        document.getElementsByTagName(\"head\")[0].appendChild(s);\n",
       "      }\n",
       "    };var element = document.getElementById(\"023ac51c-080d-4f17-9757-09a4e6aab5de\");\n",
       "    if (element == null) {\n",
       "      console.log(\"Bokeh: ERROR: autoload.js configured with elementid '023ac51c-080d-4f17-9757-09a4e6aab5de' but no matching script tag was found. \")\n",
       "      return false;\n",
       "    }\n",
       "  \n",
       "    var js_urls = [];\n",
       "  \n",
       "    var inline_js = [\n",
       "      function(Bokeh) {\n",
       "        (function() {\n",
       "          var fn = function() {\n",
       "            var docs_json = {\"54426237-8814-47a1-a7d6-8ca4bef8c5fe\":{\"roots\":{\"references\":[{\"attributes\":{\"callback\":null,\"column_names\":[\"y_values\",\"x_values\"],\"data\":{\"chart_index\":[{\"detections\":7,\"lost\":1},{\"detections\":7,\"lost\":1},{\"detections\":7,\"lost\":1},{\"detections\":7,\"lost\":1}],\"detections\":[7,7,7,7],\"lost\":[1,1,1,1],\"x_values\":[12,14,16,18],\"y_values\":{\"__ndarray__\":\"EkKN04BtjD/Ir/FmhcqLP/ylJKtImYs/MrmDRtuWiz8=\",\"dtype\":\"float64\",\"shape\":[4]}}},\"id\":\"58c31374-340f-40ed-811b-875f88f4138e\",\"type\":\"ColumnDataSource\"},{\"attributes\":{\"dimension\":1,\"plot\":{\"id\":\"a0ec2acb-4429-49f1-9238-4fc6161b9cbf\",\"subtype\":\"Chart\",\"type\":\"Plot\"},\"ticker\":{\"id\":\"aec58ff6-7160-42a8-b008-e6eb06a18e24\",\"type\":\"BasicTicker\"}},\"id\":\"3ccc019b-9551-4c02-9732-1c7feb2c624b\",\"type\":\"Grid\"},{\"attributes\":{\"callback\":null,\"end\":18.6,\"start\":11.4},\"id\":\"e32ad9a8-36fe-4319-9cbe-9e8463e30909\",\"type\":\"Range1d\"},{\"attributes\":{\"callback\":null,\"end\":18.6,\"start\":11.4},\"id\":\"cdb66ae8-f6b8-459d-a1a7-2ba38ec803cb\",\"type\":\"Range1d\"},{\"attributes\":{\"fill_alpha\":{\"value\":0.7},\"fill_color\":{\"value\":\"#407ee7\"},\"line_color\":{\"value\":\"#407ee7\"},\"size\":{\"units\":\"screen\",\"value\":8},\"x\":{\"field\":\"x_values\"},\"y\":{\"field\":\"y_values\"}},\"id\":\"1b88793d-74a7-43cc-af85-051c4e91be2c\",\"type\":\"Circle\"},{\"attributes\":{},\"id\":\"649d5874-4850-4cf3-a720-7ba45816923a\",\"type\":\"BasicTickFormatter\"},{\"attributes\":{},\"id\":\"b80e1c95-5768-44d0-8388-3cd31571fc65\",\"type\":\"BasicTicker\"},{\"attributes\":{\"children\":[{\"id\":\"bc7b5059-514b-43cd-a8c5-b5a30eeee805\",\"type\":\"Row\"},{\"id\":\"0b44e081-a481-4ab7-9879-7b4b006d8bec\",\"type\":\"Row\"}]},\"id\":\"c579aafc-7761-4b8f-bc53-f2807fb5db87\",\"type\":\"Column\"},{\"attributes\":{\"plot\":{\"id\":\"e0d8a74e-594c-4cb4-926a-667095b8b432\",\"subtype\":\"Chart\",\"type\":\"Plot\"}},\"id\":\"6e8751c1-ca22-42a2-a7e9-bbe5b668a5d9\",\"type\":\"WheelZoomTool\"},{\"attributes\":{\"axis_label\":\"hungarian\",\"formatter\":{\"id\":\"1df71b23-6625-4f7b-a63c-2a19ddd647f9\",\"type\":\"BasicTickFormatter\"},\"plot\":{\"id\":\"e9b1c306-acc8-40fd-b3c7-96ca077e564a\",\"subtype\":\"Chart\",\"type\":\"Plot\"},\"ticker\":{\"id\":\"812f7288-260b-4f59-83e6-3e90cc3711b1\",\"type\":\"BasicTicker\"}},\"id\":\"11a9dbed-355a-4bb1-9e40-772d2bc3c1a6\",\"type\":\"LinearAxis\"},{\"attributes\":{\"plot\":{\"id\":\"e0d8a74e-594c-4cb4-926a-667095b8b432\",\"subtype\":\"Chart\",\"type\":\"Plot\"},\"ticker\":{\"id\":\"252b3a5c-c3c9-470f-90a2-b3c0243a6e1a\",\"type\":\"BasicTicker\"}},\"id\":\"82891263-5a24-41c5-be33-73f3f8215403\",\"type\":\"Grid\"},{\"attributes\":{\"plot\":null,\"text\":null},\"id\":\"27335014-a9aa-4d3f-966c-53621d5505dd\",\"type\":\"Title\"},{\"attributes\":{\"axis_label\":\"mota\",\"formatter\":{\"id\":\"f34cdc56-f6a2-4edf-9b77-852d7e6967b9\",\"type\":\"BasicTickFormatter\"},\"plot\":{\"id\":\"214e03f0-c053-4d01-a0db-c8ba6cbf9352\",\"subtype\":\"Chart\",\"type\":\"Plot\"},\"ticker\":{\"id\":\"b80e1c95-5768-44d0-8388-3cd31571fc65\",\"type\":\"BasicTicker\"}},\"id\":\"d6e84f43-ccc1-4627-95ca-e8ee798f3c09\",\"type\":\"LinearAxis\"},{\"attributes\":{},\"id\":\"ff54a17d-84a9-4365-9c78-50188a085f53\",\"type\":\"LinearScale\"},{\"attributes\":{\"overlay\":{\"id\":\"9dd329bc-d0c4-4970-b896-f68a61556145\",\"type\":\"BoxAnnotation\"},\"plot\":{\"id\":\"e9b1c306-acc8-40fd-b3c7-96ca077e564a\",\"subtype\":\"Chart\",\"type\":\"Plot\"}},\"id\":\"8d7a0740-f16a-443e-be3c-4ef781598f03\",\"type\":\"BoxZoomTool\"},{\"attributes\":{\"items\":[{\"id\":\"2d236f9c-ab43-48bd-93ff-bf0bf8a8359c\",\"type\":\"LegendItem\"},{\"id\":\"3018ffe7-5f57-473a-ae2f-6aa85ba72ca6\",\"type\":\"LegendItem\"},{\"id\":\"ed2683ba-563e-4efb-aa33-926f7db1463c\",\"type\":\"LegendItem\"},{\"id\":\"a4762215-d2b9-4865-b3a8-79dcd5443e97\",\"type\":\"LegendItem\"}],\"location\":\"top_left\",\"plot\":{\"id\":\"e0d8a74e-594c-4cb4-926a-667095b8b432\",\"subtype\":\"Chart\",\"type\":\"Plot\"}},\"id\":\"33beb940-c36e-4e2e-9762-da02ea6feb60\",\"type\":\"Legend\"},{\"attributes\":{},\"id\":\"914996f0-2b5e-412d-882a-b61c67d76c3f\",\"type\":\"BasicTickFormatter\"},{\"attributes\":{\"callback\":null,\"end\":0.7802792941343635,\"start\":0.7773022151258917},\"id\":\"98ac9c5f-42f4-459a-a887-6c12e1f35c25\",\"type\":\"Range1d\"},{\"attributes\":{},\"id\":\"08bc2d7f-9b79-49ce-8186-42a02f2841e8\",\"type\":\"BasicTickFormatter\"},{\"attributes\":{\"fill_alpha\":{\"value\":0.7},\"fill_color\":{\"value\":\"#f22c40\"},\"line_color\":{\"value\":\"#f22c40\"},\"size\":{\"units\":\"screen\",\"value\":8},\"x\":{\"field\":\"x_values\"},\"y\":{\"field\":\"y_values\"}},\"id\":\"2c09177b-10c2-4a7c-b8ec-cb2840e09e4d\",\"type\":\"Circle\"},{\"attributes\":{\"data_source\":{\"id\":\"59d5fa2a-e582-4fad-8fac-291842e9d0e0\",\"type\":\"ColumnDataSource\"},\"glyph\":{\"id\":\"ec6ae6d5-cbf9-4193-a99d-5f3a58b533ae\",\"type\":\"Circle\"},\"hover_glyph\":null,\"muted_glyph\":null},\"id\":\"ca945415-a615-4ddf-971d-f181366507fd\",\"type\":\"GlyphRenderer\"},{\"attributes\":{\"plot\":{\"id\":\"e9b1c306-acc8-40fd-b3c7-96ca077e564a\",\"subtype\":\"Chart\",\"type\":\"Plot\"}},\"id\":\"8c3cd067-f8e7-40fb-87ee-fb6be56c7258\",\"type\":\"HelpTool\"},{\"attributes\":{},\"id\":\"2a5a0aef-d774-455c-ba3c-46c74b6a049a\",\"type\":\"ToolEvents\"},{\"attributes\":{\"items\":[{\"id\":\"a436cfd5-53b2-467f-9d5b-299db8e2749e\",\"type\":\"LegendItem\"},{\"id\":\"f8b23cea-b7f9-4129-9ce2-3f5a9f927c83\",\"type\":\"LegendItem\"},{\"id\":\"124072b0-08a3-44ad-ae30-32993de88fa2\",\"type\":\"LegendItem\"},{\"id\":\"a7f6f4c7-a949-4f07-a6e2-156a7cb3878a\",\"type\":\"LegendItem\"}],\"location\":\"top_left\",\"plot\":{\"id\":\"a0ec2acb-4429-49f1-9238-4fc6161b9cbf\",\"subtype\":\"Chart\",\"type\":\"Plot\"}},\"id\":\"ed218dca-3421-4891-bb4e-10bd4fb68f34\",\"type\":\"Legend\"},{\"attributes\":{\"axis_label\":\"fnr\",\"formatter\":{\"id\":\"914996f0-2b5e-412d-882a-b61c67d76c3f\",\"type\":\"BasicTickFormatter\"},\"plot\":{\"id\":\"a0ec2acb-4429-49f1-9238-4fc6161b9cbf\",\"subtype\":\"Chart\",\"type\":\"Plot\"},\"ticker\":{\"id\":\"aec58ff6-7160-42a8-b008-e6eb06a18e24\",\"type\":\"BasicTicker\"}},\"id\":\"1b21cab9-a081-4a35-b67c-b2e7b179d925\",\"type\":\"LinearAxis\"},{\"attributes\":{},\"id\":\"7be24bc0-c536-4ce0-987b-2f48365dee0a\",\"type\":\"BasicTicker\"},{\"attributes\":{\"fill_alpha\":{\"value\":0.7},\"fill_color\":{\"value\":\"#f22c40\"},\"line_color\":{\"value\":\"#f22c40\"},\"size\":{\"units\":\"screen\",\"value\":8},\"x\":{\"field\":\"x_values\"},\"y\":{\"field\":\"y_values\"}},\"id\":\"8f59e02b-5bda-4795-845d-a7ab94f0782f\",\"type\":\"Circle\"},{\"attributes\":{},\"id\":\"1df71b23-6625-4f7b-a63c-2a19ddd647f9\",\"type\":\"BasicTickFormatter\"},{\"attributes\":{\"label\":{\"value\":\"(11, 1)\"},\"renderers\":[{\"id\":\"a4dd71d0-777b-4ea7-99cc-c50c2c0846fa\",\"type\":\"GlyphRenderer\"}]},\"id\":\"ed2683ba-563e-4efb-aa33-926f7db1463c\",\"type\":\"LegendItem\"},{\"attributes\":{},\"id\":\"0acfcba8-15f0-44b0-bfcb-bf34d458f983\",\"type\":\"BasicTicker\"},{\"attributes\":{\"fill_alpha\":{\"value\":0.7},\"fill_color\":{\"value\":\"#f22c40\"},\"line_color\":{\"value\":\"#f22c40\"},\"size\":{\"units\":\"screen\",\"value\":8},\"x\":{\"field\":\"x_values\"},\"y\":{\"field\":\"y_values\"}},\"id\":\"36e7679a-9e3f-46c8-8675-dbc5278ea36c\",\"type\":\"Circle\"},{\"attributes\":{\"data_source\":{\"id\":\"049af7e4-09f6-4ed1-9657-b9d0d93e15c2\",\"type\":\"ColumnDataSource\"},\"glyph\":{\"id\":\"4caac858-5931-4c47-8473-f91a83b047fb\",\"type\":\"Circle\"},\"hover_glyph\":null,\"muted_glyph\":null},\"id\":\"218a3cfc-66ef-48f8-b3ee-1b22cceef63d\",\"type\":\"GlyphRenderer\"},{\"attributes\":{\"overlay\":{\"id\":\"88d334e6-6b18-4775-8609-7fb823e38302\",\"type\":\"BoxAnnotation\"},\"plot\":{\"id\":\"214e03f0-c053-4d01-a0db-c8ba6cbf9352\",\"subtype\":\"Chart\",\"type\":\"Plot\"}},\"id\":\"3ed36ebd-44f6-4fe0-ae54-903bfa64fe7e\",\"type\":\"BoxZoomTool\"},{\"attributes\":{\"callback\":null,\"column_names\":[\"y_values\",\"x_values\"],\"data\":{\"chart_index\":[{\"detections\":9,\"lost\":1},{\"detections\":9,\"lost\":1},{\"detections\":9,\"lost\":1},{\"detections\":9,\"lost\":1}],\"detections\":[9,9,9,9],\"lost\":[1,1,1,1],\"x_values\":[12,14,16,18],\"y_values\":{\"__ndarray__\":\"ybpE6zRLqj/zQv2cVsqqP/bOiHIzG6s/2txqVGJDqz8=\",\"dtype\":\"float64\",\"shape\":[4]}}},\"id\":\"8250faea-fece-48ee-9884-58fa999a084c\",\"type\":\"ColumnDataSource\"},{\"attributes\":{\"plot\":{\"id\":\"e0d8a74e-594c-4cb4-926a-667095b8b432\",\"subtype\":\"Chart\",\"type\":\"Plot\"}},\"id\":\"40fd3231-dba7-4038-87be-18dfada6b3b1\",\"type\":\"PanTool\"},{\"attributes\":{\"label\":{\"value\":\"(11, 1)\"},\"renderers\":[{\"id\":\"90393aae-f9af-484b-94ef-f79b5971876b\",\"type\":\"GlyphRenderer\"}]},\"id\":\"dd412387-7a59-4e56-92c9-cfac4b07a6b6\",\"type\":\"LegendItem\"},{\"attributes\":{},\"id\":\"6d3be876-9734-4701-8085-5b8000ce4eb3\",\"type\":\"LinearScale\"},{\"attributes\":{\"data_source\":{\"id\":\"e57c3788-204d-4566-8848-d8679a365bf3\",\"type\":\"ColumnDataSource\"},\"glyph\":{\"id\":\"8cbe3b30-4d1e-455d-acc4-e955aa12afa5\",\"type\":\"Circle\"},\"hover_glyph\":null,\"muted_glyph\":null},\"id\":\"a4dd71d0-777b-4ea7-99cc-c50c2c0846fa\",\"type\":\"GlyphRenderer\"},{\"attributes\":{\"fill_alpha\":{\"value\":0.7},\"fill_color\":{\"value\":\"#5ab738\"},\"line_color\":{\"value\":\"#5ab738\"},\"size\":{\"units\":\"screen\",\"value\":8},\"x\":{\"field\":\"x_values\"},\"y\":{\"field\":\"y_values\"}},\"id\":\"4da8622c-9ac3-40e2-9a8c-16890be47584\",\"type\":\"Circle\"},{\"attributes\":{\"label\":{\"value\":\"(9, 1)\"},\"renderers\":[{\"id\":\"b60cd4af-58e2-4c03-834b-2c3e2fd377b0\",\"type\":\"GlyphRenderer\"}]},\"id\":\"c3a2f64b-243e-48c4-b167-4c61defe1e25\",\"type\":\"LegendItem\"},{\"attributes\":{\"children\":[{\"id\":\"e9b1c306-acc8-40fd-b3c7-96ca077e564a\",\"subtype\":\"Chart\",\"type\":\"Plot\"},{\"id\":\"a0ec2acb-4429-49f1-9238-4fc6161b9cbf\",\"subtype\":\"Chart\",\"type\":\"Plot\"}]},\"id\":\"0b44e081-a481-4ab7-9879-7b4b006d8bec\",\"type\":\"Row\"},{\"attributes\":{\"data_source\":{\"id\":\"973a6fa4-aa8e-4416-ac9e-0e1958f431df\",\"type\":\"ColumnDataSource\"},\"glyph\":{\"id\":\"4b8fcb93-2218-42e6-afb2-1388060af60f\",\"type\":\"Circle\"},\"hover_glyph\":null,\"muted_glyph\":null},\"id\":\"e99a271d-9c29-48c4-81d2-2f122e82e1e5\",\"type\":\"GlyphRenderer\"},{\"attributes\":{},\"id\":\"64a77e07-7688-43dd-a358-b3d69ae2b8ba\",\"type\":\"LinearScale\"},{\"attributes\":{},\"id\":\"def23d5c-4d69-4736-b8e7-80976b955ad2\",\"type\":\"ToolEvents\"},{\"attributes\":{\"bottom_units\":\"screen\",\"fill_alpha\":{\"value\":0.5},\"fill_color\":{\"value\":\"lightgrey\"},\"left_units\":\"screen\",\"level\":\"overlay\",\"line_alpha\":{\"value\":1.0},\"line_color\":{\"value\":\"black\"},\"line_dash\":[4,4],\"line_width\":{\"value\":2},\"plot\":null,\"render_mode\":\"css\",\"right_units\":\"screen\",\"top_units\":\"screen\"},\"id\":\"88d334e6-6b18-4775-8609-7fb823e38302\",\"type\":\"BoxAnnotation\"},{\"attributes\":{\"callback\":null,\"column_names\":[\"y_values\",\"x_values\"],\"data\":{\"chart_index\":[{\"detections\":7,\"lost\":1},{\"detections\":7,\"lost\":1},{\"detections\":7,\"lost\":1},{\"detections\":7,\"lost\":1}],\"detections\":[7,7,7,7],\"lost\":[1,1,1,1],\"x_values\":[12,14,16,18],\"y_values\":{\"__ndarray__\":\"WOAcRbQrqz8upntGULarP5h3WvuB6as/tYfp9WIVrD8=\",\"dtype\":\"float64\",\"shape\":[4]}}},\"id\":\"47ad889e-62bf-48fe-a34a-f71ce7787c8f\",\"type\":\"ColumnDataSource\"},{\"attributes\":{\"callback\":null,\"end\":18.6,\"start\":11.4},\"id\":\"9dca18cd-9739-4bdd-b968-92d0f3b7852f\",\"type\":\"Range1d\"},{\"attributes\":{},\"id\":\"84d90024-aba2-41c8-a096-c65270165fcc\",\"type\":\"LinearScale\"},{\"attributes\":{\"callback\":null,\"column_names\":[\"y_values\",\"x_values\"],\"data\":{\"chart_index\":[{\"detections\":11,\"lost\":1},{\"detections\":11,\"lost\":1},{\"detections\":11,\"lost\":1},{\"detections\":11,\"lost\":1}],\"detections\":[11,11,11,11],\"lost\":[1,1,1,1],\"x_values\":[12,14,16,18],\"y_values\":{\"__ndarray__\":\"kqJg4F1jiD93t/QvuECIP2pFFqiOUIg/D2BF06lviD8=\",\"dtype\":\"float64\",\"shape\":[4]}}},\"id\":\"e57c3788-204d-4566-8848-d8679a365bf3\",\"type\":\"ColumnDataSource\"},{\"attributes\":{\"bottom_units\":\"screen\",\"fill_alpha\":{\"value\":0.5},\"fill_color\":{\"value\":\"lightgrey\"},\"left_units\":\"screen\",\"level\":\"overlay\",\"line_alpha\":{\"value\":1.0},\"line_color\":{\"value\":\"black\"},\"line_dash\":[4,4],\"line_width\":{\"value\":2},\"plot\":null,\"render_mode\":\"css\",\"right_units\":\"screen\",\"top_units\":\"screen\"},\"id\":\"9dd329bc-d0c4-4970-b896-f68a61556145\",\"type\":\"BoxAnnotation\"},{\"attributes\":{\"active_drag\":\"auto\",\"active_inspect\":\"auto\",\"active_scroll\":\"auto\",\"active_tap\":\"auto\",\"tools\":[{\"id\":\"40fd3231-dba7-4038-87be-18dfada6b3b1\",\"type\":\"PanTool\"},{\"id\":\"6e8751c1-ca22-42a2-a7e9-bbe5b668a5d9\",\"type\":\"WheelZoomTool\"},{\"id\":\"5306b519-c8a2-4193-9601-a7852accbc1c\",\"type\":\"BoxZoomTool\"},{\"id\":\"d985fdec-5f30-41b0-a7df-0976b085c4ce\",\"type\":\"SaveTool\"},{\"id\":\"555b0ff1-8b64-4d07-88bd-003b311038cd\",\"type\":\"ResetTool\"},{\"id\":\"b94a7186-a33d-42ec-9a24-4db43a5a2fb1\",\"type\":\"HelpTool\"}]},\"id\":\"b0f06de0-23ec-4cf4-a2bb-92b872664c2f\",\"type\":\"Toolbar\"},{\"attributes\":{\"items\":[{\"id\":\"8a476c7d-b7d4-4195-9b4f-2f83515aa0db\",\"type\":\"LegendItem\"},{\"id\":\"b678d07b-0aca-4097-b016-340885340a4c\",\"type\":\"LegendItem\"},{\"id\":\"d2da5861-2c14-45d9-a7bf-a8a724ca2aab\",\"type\":\"LegendItem\"},{\"id\":\"5a3930a9-6c11-4468-b6f2-82312422f94f\",\"type\":\"LegendItem\"}],\"location\":\"top_left\",\"plot\":{\"id\":\"214e03f0-c053-4d01-a0db-c8ba6cbf9352\",\"subtype\":\"Chart\",\"type\":\"Plot\"}},\"id\":\"2b7be178-c23f-4e7d-924a-c798b7b9e429\",\"type\":\"Legend\"},{\"attributes\":{\"fill_alpha\":{\"value\":0.7},\"fill_color\":{\"value\":\"#5ab738\"},\"line_color\":{\"value\":\"#5ab738\"},\"size\":{\"units\":\"screen\",\"value\":8},\"x\":{\"field\":\"x_values\"},\"y\":{\"field\":\"y_values\"}},\"id\":\"64543cb1-f6d4-43e6-8061-870fab2b8497\",\"type\":\"Circle\"},{\"attributes\":{\"callback\":null,\"column_names\":[\"y_values\",\"x_values\"],\"data\":{\"chart_index\":[{\"detections\":11,\"lost\":1},{\"detections\":11,\"lost\":1},{\"detections\":11,\"lost\":1},{\"detections\":11,\"lost\":1}],\"detections\":[11,11,11,11],\"lost\":[1,1,1,1],\"x_values\":[12,14,16,18],\"y_values\":{\"__ndarray__\":\"EoSQxFWjwD9nlBlSCCnAP90CEygG1r8/rltLwr2Jvz8=\",\"dtype\":\"float64\",\"shape\":[4]}}},\"id\":\"973a6fa4-aa8e-4416-ac9e-0e1958f431df\",\"type\":\"ColumnDataSource\"},{\"attributes\":{\"active_drag\":\"auto\",\"active_inspect\":\"auto\",\"active_scroll\":\"auto\",\"active_tap\":\"auto\",\"tools\":[{\"id\":\"4ca5b455-3aef-475f-8e3d-d197069c4909\",\"type\":\"PanTool\"},{\"id\":\"5044518b-f00f-4170-9b32-7117a44d71b3\",\"type\":\"WheelZoomTool\"},{\"id\":\"3ed36ebd-44f6-4fe0-ae54-903bfa64fe7e\",\"type\":\"BoxZoomTool\"},{\"id\":\"ac7affb0-3b9a-43ff-9393-590f5f42bf1b\",\"type\":\"SaveTool\"},{\"id\":\"1381363f-a9c4-4a3f-8c83-f8c32e31c080\",\"type\":\"ResetTool\"},{\"id\":\"9b85b48a-7105-4792-9d7b-3268585d115e\",\"type\":\"HelpTool\"}]},\"id\":\"e8c0ae51-31ae-4763-94a9-9a26643d653c\",\"type\":\"Toolbar\"},{\"attributes\":{\"data_source\":{\"id\":\"4b4741ce-aede-4874-9da7-a929f8b9c348\",\"type\":\"ColumnDataSource\"},\"glyph\":{\"id\":\"64543cb1-f6d4-43e6-8061-870fab2b8497\",\"type\":\"Circle\"},\"hover_glyph\":null,\"muted_glyph\":null},\"id\":\"f5fc85b9-c4af-4fa8-b64e-73340d0c269d\",\"type\":\"GlyphRenderer\"},{\"attributes\":{\"callback\":null,\"column_names\":[\"y_values\",\"x_values\"],\"data\":{\"chart_index\":[{\"detections\":9,\"lost\":1},{\"detections\":9,\"lost\":1},{\"detections\":9,\"lost\":1},{\"detections\":9,\"lost\":1}],\"detections\":[9,9,9,9],\"lost\":[1,1,1,1],\"x_values\":[12,14,16,18],\"y_values\":{\"__ndarray__\":\"XLHlfdljij/XNp+kd+WJP+48YVc514k/uiXHLr7siT8=\",\"dtype\":\"float64\",\"shape\":[4]}}},\"id\":\"0ce25cdd-e277-4fd9-826d-7bf6844c3d2a\",\"type\":\"ColumnDataSource\"},{\"attributes\":{\"fill_alpha\":{\"value\":0.7},\"fill_color\":{\"value\":\"#df5320\"},\"line_color\":{\"value\":\"#df5320\"},\"size\":{\"units\":\"screen\",\"value\":8},\"x\":{\"field\":\"x_values\"},\"y\":{\"field\":\"y_values\"}},\"id\":\"5bddd638-e9da-4e70-8715-95aabfb10404\",\"type\":\"Circle\"},{\"attributes\":{\"callback\":null,\"column_names\":[\"y_values\",\"x_values\"],\"data\":{\"chart_index\":[{\"detections\":13,\"lost\":1},{\"detections\":13,\"lost\":1},{\"detections\":13,\"lost\":1},{\"detections\":13,\"lost\":1}],\"detections\":[13,13,13,13],\"lost\":[1,1,1,1],\"x_values\":[12,14,16,18],\"y_values\":{\"__ndarray__\":\"OP44k461qD+HJaOdvVypP4hPefRzsak/zsZHKJvxqT8=\",\"dtype\":\"float64\",\"shape\":[4]}}},\"id\":\"049af7e4-09f6-4ed1-9657-b9d0d93e15c2\",\"type\":\"ColumnDataSource\"},{\"attributes\":{\"plot\":{\"id\":\"e0d8a74e-594c-4cb4-926a-667095b8b432\",\"subtype\":\"Chart\",\"type\":\"Plot\"}},\"id\":\"b94a7186-a33d-42ec-9a24-4db43a5a2fb1\",\"type\":\"HelpTool\"},{\"attributes\":{\"below\":[{\"id\":\"30ffcfa3-7fa3-4543-8543-dc0d2233616e\",\"type\":\"LinearAxis\"}],\"css_classes\":null,\"left\":[{\"id\":\"1b21cab9-a081-4a35-b67c-b2e7b179d925\",\"type\":\"LinearAxis\"}],\"renderers\":[{\"id\":\"d62e251d-c05b-4c4f-aba0-6139817171bb\",\"type\":\"BoxAnnotation\"},{\"id\":\"3a8c3226-fae9-45c9-a550-1bec8eb9e0f5\",\"type\":\"GlyphRenderer\"},{\"id\":\"222d02b5-ed1c-412e-a7b7-05e4fa8ee842\",\"type\":\"GlyphRenderer\"},{\"id\":\"e99a271d-9c29-48c4-81d2-2f122e82e1e5\",\"type\":\"GlyphRenderer\"},{\"id\":\"ca945415-a615-4ddf-971d-f181366507fd\",\"type\":\"GlyphRenderer\"},{\"id\":\"ed218dca-3421-4891-bb4e-10bd4fb68f34\",\"type\":\"Legend\"},{\"id\":\"30ffcfa3-7fa3-4543-8543-dc0d2233616e\",\"type\":\"LinearAxis\"},{\"id\":\"1b21cab9-a081-4a35-b67c-b2e7b179d925\",\"type\":\"LinearAxis\"},{\"id\":\"7fc1233e-55da-445c-b395-47cb370b2677\",\"type\":\"Grid\"},{\"id\":\"3ccc019b-9551-4c02-9732-1c7feb2c624b\",\"type\":\"Grid\"}],\"title\":{\"id\":\"ba0c56bf-d37e-4c8d-bc7d-4a5c15969161\",\"type\":\"Title\"},\"tool_events\":{\"id\":\"def23d5c-4d69-4736-b8e7-80976b955ad2\",\"type\":\"ToolEvents\"},\"toolbar\":{\"id\":\"84a96041-9e1e-4e0f-949d-9e70ba25abe8\",\"type\":\"Toolbar\"},\"x_range\":{\"id\":\"f997d1d5-2d64-4efb-b39c-6a56a5b070a8\",\"type\":\"Range1d\"},\"x_scale\":{\"id\":\"9374979e-f7e7-41f0-b8ea-003fdf411e4b\",\"type\":\"LinearScale\"},\"y_range\":{\"id\":\"5b8b30d0-9202-42eb-950a-e6a1d0b0be4f\",\"type\":\"Range1d\"},\"y_scale\":{\"id\":\"6d3be876-9734-4701-8085-5b8000ce4eb3\",\"type\":\"LinearScale\"}},\"id\":\"a0ec2acb-4429-49f1-9238-4fc6161b9cbf\",\"subtype\":\"Chart\",\"type\":\"Plot\"},{\"attributes\":{},\"id\":\"b67e2bf7-ed12-48a6-8a5f-2c5d306738e3\",\"type\":\"BasicTickFormatter\"},{\"attributes\":{\"plot\":{\"id\":\"a0ec2acb-4429-49f1-9238-4fc6161b9cbf\",\"subtype\":\"Chart\",\"type\":\"Plot\"}},\"id\":\"77ccdb89-7945-4cc2-a71e-3991b440130c\",\"type\":\"WheelZoomTool\"},{\"attributes\":{\"axis_label\":\"fpr\",\"formatter\":{\"id\":\"649d5874-4850-4cf3-a720-7ba45816923a\",\"type\":\"BasicTickFormatter\"},\"plot\":{\"id\":\"e9b1c306-acc8-40fd-b3c7-96ca077e564a\",\"subtype\":\"Chart\",\"type\":\"Plot\"},\"ticker\":{\"id\":\"0acfcba8-15f0-44b0-bfcb-bf34d458f983\",\"type\":\"BasicTicker\"}},\"id\":\"5011c809-308c-46f7-9843-624d92962dab\",\"type\":\"LinearAxis\"},{\"attributes\":{\"dimension\":1,\"plot\":{\"id\":\"e9b1c306-acc8-40fd-b3c7-96ca077e564a\",\"subtype\":\"Chart\",\"type\":\"Plot\"},\"ticker\":{\"id\":\"0acfcba8-15f0-44b0-bfcb-bf34d458f983\",\"type\":\"BasicTicker\"}},\"id\":\"c865fb11-a4f7-4143-b18d-18405c76ded4\",\"type\":\"Grid\"},{\"attributes\":{},\"id\":\"b1d01cae-8f50-47a5-a182-90527e7bcadc\",\"type\":\"BasicTickFormatter\"},{\"attributes\":{},\"id\":\"47f77f48-836c-493e-872e-ef63860ee1fa\",\"type\":\"BasicTickFormatter\"},{\"attributes\":{\"label\":{\"value\":\"(9, 1)\"},\"renderers\":[{\"id\":\"f5fc85b9-c4af-4fa8-b64e-73340d0c269d\",\"type\":\"GlyphRenderer\"}]},\"id\":\"b678d07b-0aca-4097-b016-340885340a4c\",\"type\":\"LegendItem\"},{\"attributes\":{},\"id\":\"9374979e-f7e7-41f0-b8ea-003fdf411e4b\",\"type\":\"LinearScale\"},{\"attributes\":{\"label\":{\"value\":\"(13, 1)\"},\"renderers\":[{\"id\":\"b6d21381-313d-4c9e-9d89-edd697960b6e\",\"type\":\"GlyphRenderer\"}]},\"id\":\"a4762215-d2b9-4865-b3a8-79dcd5443e97\",\"type\":\"LegendItem\"},{\"attributes\":{\"dimension\":1,\"plot\":{\"id\":\"214e03f0-c053-4d01-a0db-c8ba6cbf9352\",\"subtype\":\"Chart\",\"type\":\"Plot\"},\"ticker\":{\"id\":\"b80e1c95-5768-44d0-8388-3cd31571fc65\",\"type\":\"BasicTicker\"}},\"id\":\"41687a06-790d-4db8-b773-455f474df8e7\",\"type\":\"Grid\"},{\"attributes\":{\"fill_alpha\":{\"value\":0.7},\"fill_color\":{\"value\":\"#407ee7\"},\"line_color\":{\"value\":\"#407ee7\"},\"size\":{\"units\":\"screen\",\"value\":8},\"x\":{\"field\":\"x_values\"},\"y\":{\"field\":\"y_values\"}},\"id\":\"8cbe3b30-4d1e-455d-acc4-e955aa12afa5\",\"type\":\"Circle\"},{\"attributes\":{\"data_source\":{\"id\":\"58c31374-340f-40ed-811b-875f88f4138e\",\"type\":\"ColumnDataSource\"},\"glyph\":{\"id\":\"2c09177b-10c2-4a7c-b8ec-cb2840e09e4d\",\"type\":\"Circle\"},\"hover_glyph\":null,\"muted_glyph\":null},\"id\":\"54a8677b-6a22-4082-a5c9-111f12ccf59c\",\"type\":\"GlyphRenderer\"},{\"attributes\":{\"axis_label\":\"hungarian\",\"formatter\":{\"id\":\"47f77f48-836c-493e-872e-ef63860ee1fa\",\"type\":\"BasicTickFormatter\"},\"plot\":{\"id\":\"a0ec2acb-4429-49f1-9238-4fc6161b9cbf\",\"subtype\":\"Chart\",\"type\":\"Plot\"},\"ticker\":{\"id\":\"f1bb1b47-6a12-432e-98f3-4fbe5debb8c1\",\"type\":\"BasicTicker\"}},\"id\":\"30ffcfa3-7fa3-4543-8543-dc0d2233616e\",\"type\":\"LinearAxis\"},{\"attributes\":{\"data_source\":{\"id\":\"47ad889e-62bf-48fe-a34a-f71ce7787c8f\",\"type\":\"ColumnDataSource\"},\"glyph\":{\"id\":\"6bcd42fd-18d4-481a-9758-2b01858cb8f0\",\"type\":\"Circle\"},\"hover_glyph\":null,\"muted_glyph\":null},\"id\":\"4874b399-b895-4e85-a2db-1a39491d553e\",\"type\":\"GlyphRenderer\"},{\"attributes\":{\"fill_alpha\":{\"value\":0.7},\"fill_color\":{\"value\":\"#5ab738\"},\"line_color\":{\"value\":\"#5ab738\"},\"size\":{\"units\":\"screen\",\"value\":8},\"x\":{\"field\":\"x_values\"},\"y\":{\"field\":\"y_values\"}},\"id\":\"935a6838-cf3c-4130-94ef-453d9bf8848d\",\"type\":\"Circle\"},{\"attributes\":{\"plot\":{\"id\":\"a0ec2acb-4429-49f1-9238-4fc6161b9cbf\",\"subtype\":\"Chart\",\"type\":\"Plot\"}},\"id\":\"c27df08e-483d-4323-b695-e6acedcddf72\",\"type\":\"HelpTool\"},{\"attributes\":{\"active_drag\":\"auto\",\"active_inspect\":\"auto\",\"active_scroll\":\"auto\",\"active_tap\":\"auto\",\"tools\":[{\"id\":\"9f95fea1-8e94-45ca-baf4-dbc1c40cb7ce\",\"type\":\"PanTool\"},{\"id\":\"77ccdb89-7945-4cc2-a71e-3991b440130c\",\"type\":\"WheelZoomTool\"},{\"id\":\"0cfdb873-ca2f-44f6-adc2-c464f6c52829\",\"type\":\"BoxZoomTool\"},{\"id\":\"eba07352-dbe0-4f0c-bda0-78484fb52aad\",\"type\":\"SaveTool\"},{\"id\":\"112fd431-905b-4e2f-b29a-df24ffdd4140\",\"type\":\"ResetTool\"},{\"id\":\"c27df08e-483d-4323-b695-e6acedcddf72\",\"type\":\"HelpTool\"}]},\"id\":\"84a96041-9e1e-4e0f-949d-9e70ba25abe8\",\"type\":\"Toolbar\"},{\"attributes\":{\"plot\":{\"id\":\"e0d8a74e-594c-4cb4-926a-667095b8b432\",\"subtype\":\"Chart\",\"type\":\"Plot\"}},\"id\":\"d985fdec-5f30-41b0-a7df-0976b085c4ce\",\"type\":\"SaveTool\"},{\"attributes\":{\"label\":{\"value\":\"(13, 1)\"},\"renderers\":[{\"id\":\"218a3cfc-66ef-48f8-b3ee-1b22cceef63d\",\"type\":\"GlyphRenderer\"}]},\"id\":\"b81958d4-0b5a-4c7e-a89d-9b76ab5e30e4\",\"type\":\"LegendItem\"},{\"attributes\":{\"plot\":{\"id\":\"e0d8a74e-594c-4cb4-926a-667095b8b432\",\"subtype\":\"Chart\",\"type\":\"Plot\"}},\"id\":\"555b0ff1-8b64-4d07-88bd-003b311038cd\",\"type\":\"ResetTool\"},{\"attributes\":{},\"id\":\"9a934653-d31b-4bc3-9395-f8cc2b1b5e14\",\"type\":\"LinearScale\"},{\"attributes\":{\"plot\":{\"id\":\"a0ec2acb-4429-49f1-9238-4fc6161b9cbf\",\"subtype\":\"Chart\",\"type\":\"Plot\"}},\"id\":\"eba07352-dbe0-4f0c-bda0-78484fb52aad\",\"type\":\"SaveTool\"},{\"attributes\":{\"bottom_units\":\"screen\",\"fill_alpha\":{\"value\":0.5},\"fill_color\":{\"value\":\"lightgrey\"},\"left_units\":\"screen\",\"level\":\"overlay\",\"line_alpha\":{\"value\":1.0},\"line_color\":{\"value\":\"black\"},\"line_dash\":[4,4],\"line_width\":{\"value\":2},\"plot\":null,\"render_mode\":\"css\",\"right_units\":\"screen\",\"top_units\":\"screen\"},\"id\":\"bdc31342-896a-4cb2-a12d-db3f95957fda\",\"type\":\"BoxAnnotation\"},{\"attributes\":{\"plot\":{\"id\":\"a0ec2acb-4429-49f1-9238-4fc6161b9cbf\",\"subtype\":\"Chart\",\"type\":\"Plot\"},\"ticker\":{\"id\":\"f1bb1b47-6a12-432e-98f3-4fbe5debb8c1\",\"type\":\"BasicTicker\"}},\"id\":\"7fc1233e-55da-445c-b395-47cb370b2677\",\"type\":\"Grid\"},{\"attributes\":{\"label\":{\"value\":\"(11, 1)\"},\"renderers\":[{\"id\":\"ab7fa298-13fd-48d8-a651-aaed96700bb4\",\"type\":\"GlyphRenderer\"}]},\"id\":\"d2da5861-2c14-45d9-a7bf-a8a724ca2aab\",\"type\":\"LegendItem\"},{\"attributes\":{\"label\":{\"value\":\"(9, 1)\"},\"renderers\":[{\"id\":\"222d02b5-ed1c-412e-a7b7-05e4fa8ee842\",\"type\":\"GlyphRenderer\"}]},\"id\":\"f8b23cea-b7f9-4129-9ce2-3f5a9f927c83\",\"type\":\"LegendItem\"},{\"attributes\":{\"plot\":{\"id\":\"214e03f0-c053-4d01-a0db-c8ba6cbf9352\",\"subtype\":\"Chart\",\"type\":\"Plot\"}},\"id\":\"1381363f-a9c4-4a3f-8c83-f8c32e31c080\",\"type\":\"ResetTool\"},{\"attributes\":{\"fill_alpha\":{\"value\":0.7},\"fill_color\":{\"value\":\"#407ee7\"},\"line_color\":{\"value\":\"#407ee7\"},\"size\":{\"units\":\"screen\",\"value\":8},\"x\":{\"field\":\"x_values\"},\"y\":{\"field\":\"y_values\"}},\"id\":\"4b8fcb93-2218-42e6-afb2-1388060af60f\",\"type\":\"Circle\"},{\"attributes\":{\"active_drag\":\"auto\",\"active_inspect\":\"auto\",\"active_scroll\":\"auto\",\"active_tap\":\"auto\",\"tools\":[{\"id\":\"cf20ad20-1a7f-4943-8159-657652600fdf\",\"type\":\"PanTool\"},{\"id\":\"0f317109-0af1-4561-8f30-4555c8c5b8ae\",\"type\":\"WheelZoomTool\"},{\"id\":\"8d7a0740-f16a-443e-be3c-4ef781598f03\",\"type\":\"BoxZoomTool\"},{\"id\":\"c3cd67f1-258f-43f0-87e5-be6552845ee9\",\"type\":\"SaveTool\"},{\"id\":\"bf0ba2a5-9f6b-4cec-bbb4-042363b5bd52\",\"type\":\"ResetTool\"},{\"id\":\"8c3cd067-f8e7-40fb-87ee-fb6be56c7258\",\"type\":\"HelpTool\"}]},\"id\":\"cae702cd-4713-4fa5-851e-3bdf97e7f77c\",\"type\":\"Toolbar\"},{\"attributes\":{},\"id\":\"dbb4d3c1-1a68-47af-b5d2-a17c22a8531c\",\"type\":\"BasicTicker\"},{\"attributes\":{\"dimension\":1,\"plot\":{\"id\":\"e0d8a74e-594c-4cb4-926a-667095b8b432\",\"subtype\":\"Chart\",\"type\":\"Plot\"},\"ticker\":{\"id\":\"dbb4d3c1-1a68-47af-b5d2-a17c22a8531c\",\"type\":\"BasicTicker\"}},\"id\":\"369e9514-edfa-4039-92ac-af531c7ec6ad\",\"type\":\"Grid\"},{\"attributes\":{\"plot\":{\"id\":\"214e03f0-c053-4d01-a0db-c8ba6cbf9352\",\"subtype\":\"Chart\",\"type\":\"Plot\"}},\"id\":\"4ca5b455-3aef-475f-8e3d-d197069c4909\",\"type\":\"PanTool\"},{\"attributes\":{\"overlay\":{\"id\":\"d62e251d-c05b-4c4f-aba0-6139817171bb\",\"type\":\"BoxAnnotation\"},\"plot\":{\"id\":\"a0ec2acb-4429-49f1-9238-4fc6161b9cbf\",\"subtype\":\"Chart\",\"type\":\"Plot\"}},\"id\":\"0cfdb873-ca2f-44f6-adc2-c464f6c52829\",\"type\":\"BoxZoomTool\"},{\"attributes\":{},\"id\":\"f1bb1b47-6a12-432e-98f3-4fbe5debb8c1\",\"type\":\"BasicTicker\"},{\"attributes\":{\"fill_alpha\":{\"value\":0.7},\"fill_color\":{\"value\":\"#5ab738\"},\"line_color\":{\"value\":\"#5ab738\"},\"size\":{\"units\":\"screen\",\"value\":8},\"x\":{\"field\":\"x_values\"},\"y\":{\"field\":\"y_values\"}},\"id\":\"aca49969-5fa1-4f1a-80a2-db0a970eb8bb\",\"type\":\"Circle\"},{\"attributes\":{\"callback\":null,\"end\":0.014155966941579308,\"start\":0.010853193629752173},\"id\":\"b2adba27-330e-494d-b3ad-314d5ab1b50a\",\"type\":\"Range1d\"},{\"attributes\":{\"callback\":null,\"column_names\":[\"y_values\",\"x_values\"],\"data\":{\"chart_index\":[{\"detections\":7,\"lost\":1},{\"detections\":7,\"lost\":1},{\"detections\":7,\"lost\":1},{\"detections\":7,\"lost\":1}],\"detections\":[7,7,7,7],\"lost\":[1,1,1,1],\"x_values\":[12,14,16,18],\"y_values\":{\"__ndarray__\":\"lAo1YE3o6D/qVccoMunoPz2fHY596Og/qCibgU3m6D8=\",\"dtype\":\"float64\",\"shape\":[4]}}},\"id\":\"503efa4b-8182-43b0-85bb-ca0913009d26\",\"type\":\"ColumnDataSource\"},{\"attributes\":{},\"id\":\"252b3a5c-c3c9-470f-90a2-b3c0243a6e1a\",\"type\":\"BasicTicker\"},{\"attributes\":{\"data_source\":{\"id\":\"d0a8793a-1163-4393-9470-59be9454ed34\",\"type\":\"ColumnDataSource\"},\"glyph\":{\"id\":\"8ed69fbd-6e24-4c79-9454-cc0c64e11177\",\"type\":\"Circle\"},\"hover_glyph\":null,\"muted_glyph\":null},\"id\":\"90393aae-f9af-484b-94ef-f79b5971876b\",\"type\":\"GlyphRenderer\"},{\"attributes\":{\"below\":[{\"id\":\"11a9dbed-355a-4bb1-9e40-772d2bc3c1a6\",\"type\":\"LinearAxis\"}],\"css_classes\":null,\"left\":[{\"id\":\"5011c809-308c-46f7-9843-624d92962dab\",\"type\":\"LinearAxis\"}],\"renderers\":[{\"id\":\"9dd329bc-d0c4-4970-b896-f68a61556145\",\"type\":\"BoxAnnotation\"},{\"id\":\"4874b399-b895-4e85-a2db-1a39491d553e\",\"type\":\"GlyphRenderer\"},{\"id\":\"b60cd4af-58e2-4c03-834b-2c3e2fd377b0\",\"type\":\"GlyphRenderer\"},{\"id\":\"90393aae-f9af-484b-94ef-f79b5971876b\",\"type\":\"GlyphRenderer\"},{\"id\":\"218a3cfc-66ef-48f8-b3ee-1b22cceef63d\",\"type\":\"GlyphRenderer\"},{\"id\":\"1cca5209-3273-497d-b6dc-bb905673f0e3\",\"type\":\"Legend\"},{\"id\":\"11a9dbed-355a-4bb1-9e40-772d2bc3c1a6\",\"type\":\"LinearAxis\"},{\"id\":\"5011c809-308c-46f7-9843-624d92962dab\",\"type\":\"LinearAxis\"},{\"id\":\"f709d4bc-f5c5-4764-830d-5f2a23490de6\",\"type\":\"Grid\"},{\"id\":\"c865fb11-a4f7-4143-b18d-18405c76ded4\",\"type\":\"Grid\"}],\"title\":{\"id\":\"85ea2fb5-cbb4-4c84-92d7-29eb9e4d6d7e\",\"type\":\"Title\"},\"tool_events\":{\"id\":\"991fe867-07fb-4922-ae6a-0777ebfc4d4d\",\"type\":\"ToolEvents\"},\"toolbar\":{\"id\":\"cae702cd-4713-4fa5-851e-3bdf97e7f77c\",\"type\":\"Toolbar\"},\"x_range\":{\"id\":\"e32ad9a8-36fe-4319-9cbe-9e8463e30909\",\"type\":\"Range1d\"},\"x_scale\":{\"id\":\"ff54a17d-84a9-4365-9c78-50188a085f53\",\"type\":\"LinearScale\"},\"y_range\":{\"id\":\"3bb97187-5427-4a6e-9dcc-19364430d9dc\",\"type\":\"Range1d\"},\"y_scale\":{\"id\":\"64a77e07-7688-43dd-a358-b3d69ae2b8ba\",\"type\":\"LinearScale\"}},\"id\":\"e9b1c306-acc8-40fd-b3c7-96ca077e564a\",\"subtype\":\"Chart\",\"type\":\"Plot\"},{\"attributes\":{\"callback\":null,\"column_names\":[\"y_values\",\"x_values\"],\"data\":{\"chart_index\":[{\"detections\":9,\"lost\":1},{\"detections\":9,\"lost\":1},{\"detections\":9,\"lost\":1},{\"detections\":9,\"lost\":1}],\"detections\":[9,9,9,9],\"lost\":[1,1,1,1],\"x_values\":[12,14,16,18],\"y_values\":{\"__ndarray__\":\"NcoaA2Xw6D9OFv//A/boPwqDY4T48+g/shuX9ffx6D8=\",\"dtype\":\"float64\",\"shape\":[4]}}},\"id\":\"4b4741ce-aede-4874-9da7-a929f8b9c348\",\"type\":\"ColumnDataSource\"},{\"attributes\":{},\"id\":\"516e35f6-78bc-41d7-be3e-dc3efd6a6880\",\"type\":\"ToolEvents\"},{\"attributes\":{\"label\":{\"value\":\"(13, 1)\"},\"renderers\":[{\"id\":\"ca945415-a615-4ddf-971d-f181366507fd\",\"type\":\"GlyphRenderer\"}]},\"id\":\"a7f6f4c7-a949-4f07-a6e2-156a7cb3878a\",\"type\":\"LegendItem\"},{\"attributes\":{\"plot\":{\"id\":\"214e03f0-c053-4d01-a0db-c8ba6cbf9352\",\"subtype\":\"Chart\",\"type\":\"Plot\"},\"ticker\":{\"id\":\"7be24bc0-c536-4ce0-987b-2f48365dee0a\",\"type\":\"BasicTicker\"}},\"id\":\"d66f1e92-9bcf-4e4c-983c-e864af28311d\",\"type\":\"Grid\"},{\"attributes\":{\"bottom_units\":\"screen\",\"fill_alpha\":{\"value\":0.5},\"fill_color\":{\"value\":\"lightgrey\"},\"left_units\":\"screen\",\"level\":\"overlay\",\"line_alpha\":{\"value\":1.0},\"line_color\":{\"value\":\"black\"},\"line_dash\":[4,4],\"line_width\":{\"value\":2},\"plot\":null,\"render_mode\":\"css\",\"right_units\":\"screen\",\"top_units\":\"screen\"},\"id\":\"d62e251d-c05b-4c4f-aba0-6139817171bb\",\"type\":\"BoxAnnotation\"},{\"attributes\":{\"callback\":null,\"end\":0.13845234164896003,\"start\":0.11219940115796545},\"id\":\"5b8b30d0-9202-42eb-950a-e6a1d0b0be4f\",\"type\":\"Range1d\"},{\"attributes\":{\"children\":[{\"id\":\"214e03f0-c053-4d01-a0db-c8ba6cbf9352\",\"subtype\":\"Chart\",\"type\":\"Plot\"},{\"id\":\"e0d8a74e-594c-4cb4-926a-667095b8b432\",\"subtype\":\"Chart\",\"type\":\"Plot\"}]},\"id\":\"bc7b5059-514b-43cd-a8c5-b5a30eeee805\",\"type\":\"Row\"},{\"attributes\":{\"axis_label\":\"mr\",\"formatter\":{\"id\":\"b67e2bf7-ed12-48a6-8a5f-2c5d306738e3\",\"type\":\"BasicTickFormatter\"},\"plot\":{\"id\":\"e0d8a74e-594c-4cb4-926a-667095b8b432\",\"subtype\":\"Chart\",\"type\":\"Plot\"},\"ticker\":{\"id\":\"dbb4d3c1-1a68-47af-b5d2-a17c22a8531c\",\"type\":\"BasicTicker\"}},\"id\":\"b2c7c6de-4e91-4f53-84cc-a97ac7da4a39\",\"type\":\"LinearAxis\"},{\"attributes\":{},\"id\":\"cabefb6f-c1be-4c21-8ee9-1ca6dcffb578\",\"type\":\"LinearScale\"},{\"attributes\":{\"label\":{\"value\":\"(11, 1)\"},\"renderers\":[{\"id\":\"e99a271d-9c29-48c4-81d2-2f122e82e1e5\",\"type\":\"GlyphRenderer\"}]},\"id\":\"124072b0-08a3-44ad-ae30-32993de88fa2\",\"type\":\"LegendItem\"},{\"attributes\":{\"data_source\":{\"id\":\"65b926d2-0d65-48e5-ba47-ab81c70ff08b\",\"type\":\"ColumnDataSource\"},\"glyph\":{\"id\":\"8f59e02b-5bda-4795-845d-a7ab94f0782f\",\"type\":\"Circle\"},\"hover_glyph\":null,\"muted_glyph\":null},\"id\":\"3a8c3226-fae9-45c9-a550-1bec8eb9e0f5\",\"type\":\"GlyphRenderer\"},{\"attributes\":{\"fill_alpha\":{\"value\":0.7},\"fill_color\":{\"value\":\"#df5320\"},\"line_color\":{\"value\":\"#df5320\"},\"size\":{\"units\":\"screen\",\"value\":8},\"x\":{\"field\":\"x_values\"},\"y\":{\"field\":\"y_values\"}},\"id\":\"ec6ae6d5-cbf9-4193-a99d-5f3a58b533ae\",\"type\":\"Circle\"},{\"attributes\":{\"below\":[{\"id\":\"3dde39a3-a11a-4742-b4d3-ff0051a3373f\",\"type\":\"LinearAxis\"}],\"css_classes\":null,\"left\":[{\"id\":\"b2c7c6de-4e91-4f53-84cc-a97ac7da4a39\",\"type\":\"LinearAxis\"}],\"renderers\":[{\"id\":\"bdc31342-896a-4cb2-a12d-db3f95957fda\",\"type\":\"BoxAnnotation\"},{\"id\":\"54a8677b-6a22-4082-a5c9-111f12ccf59c\",\"type\":\"GlyphRenderer\"},{\"id\":\"c1e54b55-7778-43b9-b797-ea7be81e4ae1\",\"type\":\"GlyphRenderer\"},{\"id\":\"a4dd71d0-777b-4ea7-99cc-c50c2c0846fa\",\"type\":\"GlyphRenderer\"},{\"id\":\"b6d21381-313d-4c9e-9d89-edd697960b6e\",\"type\":\"GlyphRenderer\"},{\"id\":\"33beb940-c36e-4e2e-9762-da02ea6feb60\",\"type\":\"Legend\"},{\"id\":\"3dde39a3-a11a-4742-b4d3-ff0051a3373f\",\"type\":\"LinearAxis\"},{\"id\":\"b2c7c6de-4e91-4f53-84cc-a97ac7da4a39\",\"type\":\"LinearAxis\"},{\"id\":\"82891263-5a24-41c5-be33-73f3f8215403\",\"type\":\"Grid\"},{\"id\":\"369e9514-edfa-4039-92ac-af531c7ec6ad\",\"type\":\"Grid\"}],\"title\":{\"id\":\"d217e086-509d-4b56-97bf-97ab2e697bf7\",\"type\":\"Title\"},\"tool_events\":{\"id\":\"516e35f6-78bc-41d7-be3e-dc3efd6a6880\",\"type\":\"ToolEvents\"},\"toolbar\":{\"id\":\"b0f06de0-23ec-4cf4-a2bb-92b872664c2f\",\"type\":\"Toolbar\"},\"x_range\":{\"id\":\"cdb66ae8-f6b8-459d-a1a7-2ba38ec803cb\",\"type\":\"Range1d\"},\"x_scale\":{\"id\":\"cfbb295f-806d-4da6-a75b-9de3e9495cbe\",\"type\":\"LinearScale\"},\"y_range\":{\"id\":\"b2adba27-330e-494d-b3ad-314d5ab1b50a\",\"type\":\"Range1d\"},\"y_scale\":{\"id\":\"cabefb6f-c1be-4c21-8ee9-1ca6dcffb578\",\"type\":\"LinearScale\"}},\"id\":\"e0d8a74e-594c-4cb4-926a-667095b8b432\",\"subtype\":\"Chart\",\"type\":\"Plot\"},{\"attributes\":{\"plot\":{\"id\":\"e9b1c306-acc8-40fd-b3c7-96ca077e564a\",\"subtype\":\"Chart\",\"type\":\"Plot\"},\"ticker\":{\"id\":\"812f7288-260b-4f59-83e6-3e90cc3711b1\",\"type\":\"BasicTicker\"}},\"id\":\"f709d4bc-f5c5-4764-830d-5f2a23490de6\",\"type\":\"Grid\"},{\"attributes\":{\"callback\":null,\"column_names\":[\"y_values\",\"x_values\"],\"data\":{\"chart_index\":[{\"detections\":13,\"lost\":1},{\"detections\":13,\"lost\":1},{\"detections\":13,\"lost\":1},{\"detections\":13,\"lost\":1}],\"detections\":[13,13,13,13],\"lost\":[1,1,1,1],\"x_values\":[12,14,16,18],\"y_values\":{\"__ndarray__\":\"yhpJzmjQhj+cgnvif8qGP3Mw7y9f2oY/JF4Dixkkhz8=\",\"dtype\":\"float64\",\"shape\":[4]}}},\"id\":\"f9fa75b4-b7ad-497c-b004-a73270772e9e\",\"type\":\"ColumnDataSource\"},{\"attributes\":{},\"id\":\"991fe867-07fb-4922-ae6a-0777ebfc4d4d\",\"type\":\"ToolEvents\"},{\"attributes\":{\"plot\":{\"id\":\"e9b1c306-acc8-40fd-b3c7-96ca077e564a\",\"subtype\":\"Chart\",\"type\":\"Plot\"}},\"id\":\"0f317109-0af1-4561-8f30-4555c8c5b8ae\",\"type\":\"WheelZoomTool\"},{\"attributes\":{\"fill_alpha\":{\"value\":0.7},\"fill_color\":{\"value\":\"#407ee7\"},\"line_color\":{\"value\":\"#407ee7\"},\"size\":{\"units\":\"screen\",\"value\":8},\"x\":{\"field\":\"x_values\"},\"y\":{\"field\":\"y_values\"}},\"id\":\"8ed69fbd-6e24-4c79-9454-cc0c64e11177\",\"type\":\"Circle\"},{\"attributes\":{\"plot\":{\"id\":\"e9b1c306-acc8-40fd-b3c7-96ca077e564a\",\"subtype\":\"Chart\",\"type\":\"Plot\"}},\"id\":\"bf0ba2a5-9f6b-4cec-bbb4-042363b5bd52\",\"type\":\"ResetTool\"},{\"attributes\":{\"plot\":{\"id\":\"e9b1c306-acc8-40fd-b3c7-96ca077e564a\",\"subtype\":\"Chart\",\"type\":\"Plot\"}},\"id\":\"c3cd67f1-258f-43f0-87e5-be6552845ee9\",\"type\":\"SaveTool\"},{\"attributes\":{\"plot\":{\"id\":\"e9b1c306-acc8-40fd-b3c7-96ca077e564a\",\"subtype\":\"Chart\",\"type\":\"Plot\"}},\"id\":\"cf20ad20-1a7f-4943-8159-657652600fdf\",\"type\":\"PanTool\"},{\"attributes\":{},\"id\":\"cfbb295f-806d-4da6-a75b-9de3e9495cbe\",\"type\":\"LinearScale\"},{\"attributes\":{\"plot\":null,\"text\":null},\"id\":\"d217e086-509d-4b56-97bf-97ab2e697bf7\",\"type\":\"Title\"},{\"attributes\":{\"plot\":{\"id\":\"214e03f0-c053-4d01-a0db-c8ba6cbf9352\",\"subtype\":\"Chart\",\"type\":\"Plot\"}},\"id\":\"ac7affb0-3b9a-43ff-9393-590f5f42bf1b\",\"type\":\"SaveTool\"},{\"attributes\":{\"callback\":null,\"column_names\":[\"y_values\",\"x_values\"],\"data\":{\"chart_index\":[{\"detections\":13,\"lost\":1},{\"detections\":13,\"lost\":1},{\"detections\":13,\"lost\":1},{\"detections\":13,\"lost\":1}],\"detections\":[13,13,13,13],\"lost\":[1,1,1,1],\"x_values\":[12,14,16,18],\"y_values\":{\"__ndarray__\":\"CWAESR5xwT/akYqIu97APxjF2tuXlMA/EERujlpowD8=\",\"dtype\":\"float64\",\"shape\":[4]}}},\"id\":\"59d5fa2a-e582-4fad-8fac-291842e9d0e0\",\"type\":\"ColumnDataSource\"},{\"attributes\":{\"fill_alpha\":{\"value\":0.7},\"fill_color\":{\"value\":\"#df5320\"},\"line_color\":{\"value\":\"#df5320\"},\"size\":{\"units\":\"screen\",\"value\":8},\"x\":{\"field\":\"x_values\"},\"y\":{\"field\":\"y_values\"}},\"id\":\"ca8ff94d-2b5d-49b3-aa77-4bf6ebc362c9\",\"type\":\"Circle\"},{\"attributes\":{\"callback\":null,\"column_names\":[\"y_values\",\"x_values\"],\"data\":{\"chart_index\":[{\"detections\":11,\"lost\":1},{\"detections\":11,\"lost\":1},{\"detections\":11,\"lost\":1},{\"detections\":11,\"lost\":1}],\"detections\":[11,11,11,11],\"lost\":[1,1,1,1],\"x_values\":[12,14,16,18],\"y_values\":{\"__ndarray__\":\"lUxyVdRbqT8S81DkGQqqPylPpYjTW6o/8e8Kkm6Bqj8=\",\"dtype\":\"float64\",\"shape\":[4]}}},\"id\":\"d0a8793a-1163-4393-9470-59be9454ed34\",\"type\":\"ColumnDataSource\"},{\"attributes\":{\"plot\":null,\"text\":null},\"id\":\"85ea2fb5-cbb4-4c84-92d7-29eb9e4d6d7e\",\"type\":\"Title\"},{\"attributes\":{\"data_source\":{\"id\":\"f9fa75b4-b7ad-497c-b004-a73270772e9e\",\"type\":\"ColumnDataSource\"},\"glyph\":{\"id\":\"ca8ff94d-2b5d-49b3-aa77-4bf6ebc362c9\",\"type\":\"Circle\"},\"hover_glyph\":null,\"muted_glyph\":null},\"id\":\"b6d21381-313d-4c9e-9d89-edd697960b6e\",\"type\":\"GlyphRenderer\"},{\"attributes\":{\"items\":[{\"id\":\"1f2b3f77-9b0b-4754-8f65-6f6b49349f56\",\"type\":\"LegendItem\"},{\"id\":\"c3a2f64b-243e-48c4-b167-4c61defe1e25\",\"type\":\"LegendItem\"},{\"id\":\"dd412387-7a59-4e56-92c9-cfac4b07a6b6\",\"type\":\"LegendItem\"},{\"id\":\"b81958d4-0b5a-4c7e-a89d-9b76ab5e30e4\",\"type\":\"LegendItem\"}],\"location\":\"top_left\",\"plot\":{\"id\":\"e9b1c306-acc8-40fd-b3c7-96ca077e564a\",\"subtype\":\"Chart\",\"type\":\"Plot\"}},\"id\":\"1cca5209-3273-497d-b6dc-bb905673f0e3\",\"type\":\"Legend\"},{\"attributes\":{\"plot\":null,\"text\":null},\"id\":\"ba0c56bf-d37e-4c8d-bc7d-4a5c15969161\",\"type\":\"Title\"},{\"attributes\":{\"fill_alpha\":{\"value\":0.7},\"fill_color\":{\"value\":\"#df5320\"},\"line_color\":{\"value\":\"#df5320\"},\"size\":{\"units\":\"screen\",\"value\":8},\"x\":{\"field\":\"x_values\"},\"y\":{\"field\":\"y_values\"}},\"id\":\"4caac858-5931-4c47-8473-f91a83b047fb\",\"type\":\"Circle\"},{\"attributes\":{\"callback\":null,\"end\":0.05550971624688091,\"start\":0.04760111977272542},\"id\":\"3bb97187-5427-4a6e-9dcc-19364430d9dc\",\"type\":\"Range1d\"},{\"attributes\":{\"axis_label\":\"hungarian\",\"formatter\":{\"id\":\"b1d01cae-8f50-47a5-a182-90527e7bcadc\",\"type\":\"BasicTickFormatter\"},\"plot\":{\"id\":\"214e03f0-c053-4d01-a0db-c8ba6cbf9352\",\"subtype\":\"Chart\",\"type\":\"Plot\"},\"ticker\":{\"id\":\"7be24bc0-c536-4ce0-987b-2f48365dee0a\",\"type\":\"BasicTicker\"}},\"id\":\"bb7244c4-83c7-41fe-96b6-5e06d02373a9\",\"type\":\"LinearAxis\"},{\"attributes\":{\"plot\":{\"id\":\"a0ec2acb-4429-49f1-9238-4fc6161b9cbf\",\"subtype\":\"Chart\",\"type\":\"Plot\"}},\"id\":\"9f95fea1-8e94-45ca-baf4-dbc1c40cb7ce\",\"type\":\"PanTool\"},{\"attributes\":{\"axis_label\":\"hungarian\",\"formatter\":{\"id\":\"08bc2d7f-9b79-49ce-8186-42a02f2841e8\",\"type\":\"BasicTickFormatter\"},\"plot\":{\"id\":\"e0d8a74e-594c-4cb4-926a-667095b8b432\",\"subtype\":\"Chart\",\"type\":\"Plot\"},\"ticker\":{\"id\":\"252b3a5c-c3c9-470f-90a2-b3c0243a6e1a\",\"type\":\"BasicTicker\"}},\"id\":\"3dde39a3-a11a-4742-b4d3-ff0051a3373f\",\"type\":\"LinearAxis\"},{\"attributes\":{\"callback\":null,\"column_names\":[\"y_values\",\"x_values\"],\"data\":{\"chart_index\":[{\"detections\":9,\"lost\":1},{\"detections\":9,\"lost\":1},{\"detections\":9,\"lost\":1},{\"detections\":9,\"lost\":1}],\"detections\":[9,9,9,9],\"lost\":[1,1,1,1],\"x_values\":[12,14,16,18],\"y_values\":{\"__ndarray__\":\"iHCK7u+kvz9m2iLQk+q+P1boolEUk74/dJT2FdNavj8=\",\"dtype\":\"float64\",\"shape\":[4]}}},\"id\":\"06ceafd3-65cd-4402-afbf-45a3b12c48b2\",\"type\":\"ColumnDataSource\"},{\"attributes\":{\"label\":{\"value\":\"(7, 1)\"},\"renderers\":[{\"id\":\"d98de40b-8953-4c0c-9a75-492edc1a3352\",\"type\":\"GlyphRenderer\"}]},\"id\":\"8a476c7d-b7d4-4195-9b4f-2f83515aa0db\",\"type\":\"LegendItem\"},{\"attributes\":{},\"id\":\"f34cdc56-f6a2-4edf-9b77-852d7e6967b9\",\"type\":\"BasicTickFormatter\"},{\"attributes\":{\"callback\":null,\"column_names\":[\"y_values\",\"x_values\"],\"data\":{\"chart_index\":[{\"detections\":7,\"lost\":1},{\"detections\":7,\"lost\":1},{\"detections\":7,\"lost\":1},{\"detections\":7,\"lost\":1}],\"detections\":[7,7,7,7],\"lost\":[1,1,1,1],\"x_values\":[12,14,16,18],\"y_values\":{\"__ndarray__\":\"VRaluIJDvj9uNplSDLe9P4gw+v1pcL0/n8gB3HlIvT8=\",\"dtype\":\"float64\",\"shape\":[4]}}},\"id\":\"65b926d2-0d65-48e5-ba47-ab81c70ff08b\",\"type\":\"ColumnDataSource\"},{\"attributes\":{\"plot\":{\"id\":\"214e03f0-c053-4d01-a0db-c8ba6cbf9352\",\"subtype\":\"Chart\",\"type\":\"Plot\"}},\"id\":\"9b85b48a-7105-4792-9d7b-3268585d115e\",\"type\":\"HelpTool\"},{\"attributes\":{\"callback\":null,\"column_names\":[\"y_values\",\"x_values\"],\"data\":{\"chart_index\":[{\"detections\":13,\"lost\":1},{\"detections\":13,\"lost\":1},{\"detections\":13,\"lost\":1},{\"detections\":13,\"lost\":1}],\"detections\":[13,13,13,13],\"lost\":[1,1,1,1],\"x_values\":[12,14,16,18],\"y_values\":{\"__ndarray__\":\"CvtkLbHh6D9k7ibT4e3oP1YmqUn18eg/goRi/Bbw6D8=\",\"dtype\":\"float64\",\"shape\":[4]}}},\"id\":\"e3242240-3bbd-44df-862e-2b053ee9ad78\",\"type\":\"ColumnDataSource\"},{\"attributes\":{\"overlay\":{\"id\":\"bdc31342-896a-4cb2-a12d-db3f95957fda\",\"type\":\"BoxAnnotation\"},\"plot\":{\"id\":\"e0d8a74e-594c-4cb4-926a-667095b8b432\",\"subtype\":\"Chart\",\"type\":\"Plot\"}},\"id\":\"5306b519-c8a2-4193-9601-a7852accbc1c\",\"type\":\"BoxZoomTool\"},{\"attributes\":{\"label\":{\"value\":\"(7, 1)\"},\"renderers\":[{\"id\":\"4874b399-b895-4e85-a2db-1a39491d553e\",\"type\":\"GlyphRenderer\"}]},\"id\":\"1f2b3f77-9b0b-4754-8f65-6f6b49349f56\",\"type\":\"LegendItem\"},{\"attributes\":{\"data_source\":{\"id\":\"0ce25cdd-e277-4fd9-826d-7bf6844c3d2a\",\"type\":\"ColumnDataSource\"},\"glyph\":{\"id\":\"aca49969-5fa1-4f1a-80a2-db0a970eb8bb\",\"type\":\"Circle\"},\"hover_glyph\":null,\"muted_glyph\":null},\"id\":\"c1e54b55-7778-43b9-b797-ea7be81e4ae1\",\"type\":\"GlyphRenderer\"},{\"attributes\":{\"data_source\":{\"id\":\"06ceafd3-65cd-4402-afbf-45a3b12c48b2\",\"type\":\"ColumnDataSource\"},\"glyph\":{\"id\":\"935a6838-cf3c-4130-94ef-453d9bf8848d\",\"type\":\"Circle\"},\"hover_glyph\":null,\"muted_glyph\":null},\"id\":\"222d02b5-ed1c-412e-a7b7-05e4fa8ee842\",\"type\":\"GlyphRenderer\"},{\"attributes\":{\"fill_alpha\":{\"value\":0.7},\"fill_color\":{\"value\":\"#f22c40\"},\"line_color\":{\"value\":\"#f22c40\"},\"size\":{\"units\":\"screen\",\"value\":8},\"x\":{\"field\":\"x_values\"},\"y\":{\"field\":\"y_values\"}},\"id\":\"6bcd42fd-18d4-481a-9758-2b01858cb8f0\",\"type\":\"Circle\"},{\"attributes\":{\"data_source\":{\"id\":\"8250faea-fece-48ee-9884-58fa999a084c\",\"type\":\"ColumnDataSource\"},\"glyph\":{\"id\":\"4da8622c-9ac3-40e2-9a8c-16890be47584\",\"type\":\"Circle\"},\"hover_glyph\":null,\"muted_glyph\":null},\"id\":\"b60cd4af-58e2-4c03-834b-2c3e2fd377b0\",\"type\":\"GlyphRenderer\"},{\"attributes\":{\"callback\":null,\"end\":18.6,\"start\":11.4},\"id\":\"f997d1d5-2d64-4efb-b39c-6a56a5b070a8\",\"type\":\"Range1d\"},{\"attributes\":{\"data_source\":{\"id\":\"e3242240-3bbd-44df-862e-2b053ee9ad78\",\"type\":\"ColumnDataSource\"},\"glyph\":{\"id\":\"5bddd638-e9da-4e70-8715-95aabfb10404\",\"type\":\"Circle\"},\"hover_glyph\":null,\"muted_glyph\":null},\"id\":\"87beadb1-246c-4af9-9add-faf6ec518bca\",\"type\":\"GlyphRenderer\"},{\"attributes\":{},\"id\":\"812f7288-260b-4f59-83e6-3e90cc3711b1\",\"type\":\"BasicTicker\"},{\"attributes\":{\"label\":{\"value\":\"(13, 1)\"},\"renderers\":[{\"id\":\"87beadb1-246c-4af9-9add-faf6ec518bca\",\"type\":\"GlyphRenderer\"}]},\"id\":\"5a3930a9-6c11-4468-b6f2-82312422f94f\",\"type\":\"LegendItem\"},{\"attributes\":{},\"id\":\"aec58ff6-7160-42a8-b008-e6eb06a18e24\",\"type\":\"BasicTicker\"},{\"attributes\":{\"label\":{\"value\":\"(7, 1)\"},\"renderers\":[{\"id\":\"54a8677b-6a22-4082-a5c9-111f12ccf59c\",\"type\":\"GlyphRenderer\"}]},\"id\":\"2d236f9c-ab43-48bd-93ff-bf0bf8a8359c\",\"type\":\"LegendItem\"},{\"attributes\":{\"label\":{\"value\":\"(7, 1)\"},\"renderers\":[{\"id\":\"3a8c3226-fae9-45c9-a550-1bec8eb9e0f5\",\"type\":\"GlyphRenderer\"}]},\"id\":\"a436cfd5-53b2-467f-9d5b-299db8e2749e\",\"type\":\"LegendItem\"},{\"attributes\":{\"plot\":{\"id\":\"a0ec2acb-4429-49f1-9238-4fc6161b9cbf\",\"subtype\":\"Chart\",\"type\":\"Plot\"}},\"id\":\"112fd431-905b-4e2f-b29a-df24ffdd4140\",\"type\":\"ResetTool\"},{\"attributes\":{\"plot\":{\"id\":\"214e03f0-c053-4d01-a0db-c8ba6cbf9352\",\"subtype\":\"Chart\",\"type\":\"Plot\"}},\"id\":\"5044518b-f00f-4170-9b32-7117a44d71b3\",\"type\":\"WheelZoomTool\"},{\"attributes\":{\"label\":{\"value\":\"(9, 1)\"},\"renderers\":[{\"id\":\"c1e54b55-7778-43b9-b797-ea7be81e4ae1\",\"type\":\"GlyphRenderer\"}]},\"id\":\"3018ffe7-5f57-473a-ae2f-6aa85ba72ca6\",\"type\":\"LegendItem\"},{\"attributes\":{\"below\":[{\"id\":\"bb7244c4-83c7-41fe-96b6-5e06d02373a9\",\"type\":\"LinearAxis\"}],\"css_classes\":null,\"left\":[{\"id\":\"d6e84f43-ccc1-4627-95ca-e8ee798f3c09\",\"type\":\"LinearAxis\"}],\"renderers\":[{\"id\":\"88d334e6-6b18-4775-8609-7fb823e38302\",\"type\":\"BoxAnnotation\"},{\"id\":\"d98de40b-8953-4c0c-9a75-492edc1a3352\",\"type\":\"GlyphRenderer\"},{\"id\":\"f5fc85b9-c4af-4fa8-b64e-73340d0c269d\",\"type\":\"GlyphRenderer\"},{\"id\":\"ab7fa298-13fd-48d8-a651-aaed96700bb4\",\"type\":\"GlyphRenderer\"},{\"id\":\"87beadb1-246c-4af9-9add-faf6ec518bca\",\"type\":\"GlyphRenderer\"},{\"id\":\"2b7be178-c23f-4e7d-924a-c798b7b9e429\",\"type\":\"Legend\"},{\"id\":\"bb7244c4-83c7-41fe-96b6-5e06d02373a9\",\"type\":\"LinearAxis\"},{\"id\":\"d6e84f43-ccc1-4627-95ca-e8ee798f3c09\",\"type\":\"LinearAxis\"},{\"id\":\"d66f1e92-9bcf-4e4c-983c-e864af28311d\",\"type\":\"Grid\"},{\"id\":\"41687a06-790d-4db8-b773-455f474df8e7\",\"type\":\"Grid\"}],\"title\":{\"id\":\"27335014-a9aa-4d3f-966c-53621d5505dd\",\"type\":\"Title\"},\"tool_events\":{\"id\":\"2a5a0aef-d774-455c-ba3c-46c74b6a049a\",\"type\":\"ToolEvents\"},\"toolbar\":{\"id\":\"e8c0ae51-31ae-4763-94a9-9a26643d653c\",\"type\":\"Toolbar\"},\"x_range\":{\"id\":\"9dca18cd-9739-4bdd-b968-92d0f3b7852f\",\"type\":\"Range1d\"},\"x_scale\":{\"id\":\"84d90024-aba2-41c8-a096-c65270165fcc\",\"type\":\"LinearScale\"},\"y_range\":{\"id\":\"98ac9c5f-42f4-459a-a887-6c12e1f35c25\",\"type\":\"Range1d\"},\"y_scale\":{\"id\":\"9a934653-d31b-4bc3-9395-f8cc2b1b5e14\",\"type\":\"LinearScale\"}},\"id\":\"214e03f0-c053-4d01-a0db-c8ba6cbf9352\",\"subtype\":\"Chart\",\"type\":\"Plot\"},{\"attributes\":{\"data_source\":{\"id\":\"05d5e14d-2fb6-4c71-956c-f00552e2ef8b\",\"type\":\"ColumnDataSource\"},\"glyph\":{\"id\":\"1b88793d-74a7-43cc-af85-051c4e91be2c\",\"type\":\"Circle\"},\"hover_glyph\":null,\"muted_glyph\":null},\"id\":\"ab7fa298-13fd-48d8-a651-aaed96700bb4\",\"type\":\"GlyphRenderer\"},{\"attributes\":{\"callback\":null,\"column_names\":[\"y_values\",\"x_values\"],\"data\":{\"chart_index\":[{\"detections\":11,\"lost\":1},{\"detections\":11,\"lost\":1},{\"detections\":11,\"lost\":1},{\"detections\":11,\"lost\":1}],\"detections\":[11,11,11,11],\"lost\":[1,1,1,1],\"x_values\":[12,14,16,18],\"y_values\":{\"__ndarray__\":\"Bc1gHbvt6D8GPW5TbvToPwpVgQVk9eg/OFRjJ6f16D8=\",\"dtype\":\"float64\",\"shape\":[4]}}},\"id\":\"05d5e14d-2fb6-4c71-956c-f00552e2ef8b\",\"type\":\"ColumnDataSource\"},{\"attributes\":{\"data_source\":{\"id\":\"503efa4b-8182-43b0-85bb-ca0913009d26\",\"type\":\"ColumnDataSource\"},\"glyph\":{\"id\":\"36e7679a-9e3f-46c8-8675-dbc5278ea36c\",\"type\":\"Circle\"},\"hover_glyph\":null,\"muted_glyph\":null},\"id\":\"d98de40b-8953-4c0c-9a75-492edc1a3352\",\"type\":\"GlyphRenderer\"}],\"root_ids\":[\"c579aafc-7761-4b8f-bc53-f2807fb5db87\"]},\"title\":\"Bokeh Application\",\"version\":\"0.12.6\"}};\n",
       "            var render_items = [{\"docid\":\"54426237-8814-47a1-a7d6-8ca4bef8c5fe\",\"elementid\":\"023ac51c-080d-4f17-9757-09a4e6aab5de\",\"modelid\":\"c579aafc-7761-4b8f-bc53-f2807fb5db87\"}];\n",
       "            \n",
       "            Bokeh.embed.embed_items(docs_json, render_items);\n",
       "          };\n",
       "          if (document.readyState != \"loading\") fn();\n",
       "          else document.addEventListener(\"DOMContentLoaded\", fn);\n",
       "        })();\n",
       "      },\n",
       "      function(Bokeh) {\n",
       "      }\n",
       "    ];\n",
       "  \n",
       "    function run_inline_js() {\n",
       "      \n",
       "      if ((window.Bokeh !== undefined) || (force === true)) {\n",
       "        for (var i = 0; i < inline_js.length; i++) {\n",
       "          inline_js[i](window.Bokeh);\n",
       "        }if (force === true) {\n",
       "          display_loaded();\n",
       "        }} else if (Date.now() < window._bokeh_timeout) {\n",
       "        setTimeout(run_inline_js, 100);\n",
       "      } else if (!window._bokeh_failed_load) {\n",
       "        console.log(\"Bokeh: BokehJS failed to load within specified timeout.\");\n",
       "        window._bokeh_failed_load = true;\n",
       "      } else if (force !== true) {\n",
       "        var cell = $(document.getElementById(\"023ac51c-080d-4f17-9757-09a4e6aab5de\")).parents('.cell').data().cell;\n",
       "        cell.output_area.append_execute_result(NB_LOAD_WARNING)\n",
       "      }\n",
       "  \n",
       "    }\n",
       "  \n",
       "    if (window._bokeh_is_loading === 0) {\n",
       "      console.log(\"Bokeh: BokehJS loaded, going straight to plotting\");\n",
       "      run_inline_js();\n",
       "    } else {\n",
       "      load_libs(js_urls, function() {\n",
       "        console.log(\"Bokeh: BokehJS plotting callback run at\", now());\n",
       "        run_inline_js();\n",
       "      });\n",
       "    }\n",
       "  }(this));\n",
       "</script>"
      ]
     },
     "metadata": {},
     "output_type": "display_data"
    }
   ],
   "source": [
    "scat1 = Scatter(data_lt_ht_det, x='hungarian', y='mota', color='detections', marker='lost')\n",
    "scat2 = Scatter(data_lt_ht_det, x='hungarian', y='mr', color='detections', marker='lost')\n",
    "scat3 = Scatter(data_lt_ht_det, x='hungarian', y='fpr', color='detections', marker='lost')\n",
    "scat4 = Scatter(data_lt_ht_det, x='hungarian', y='fnr', color='detections', marker='lost')\n",
    "show(column(row(scat1, scat2), row(scat3, scat4)))"
   ]
  },
  {
   "cell_type": "code",
   "execution_count": 26,
   "metadata": {},
   "outputs": [
    {
     "data": {
      "text/plain": [
       "{'checkpoint_freq': 1500,\n",
       " 'detector_config': {'_class_name': 'PassThroughDetectorConfig',\n",
       "  'batch_size': 1,\n",
       "  'source_path': 's3://hudl-holmes/recordings/stamford_bridge/chelsea_v_utd_u21/detections_000.json'},\n",
       " 'filter_configs': [{'_class_name': 'BbAreaFilterConfig',\n",
       "   'max_pixel_area': 5000,\n",
       "   'min_detections': 7,\n",
       "   'min_pixel_area': 100}],\n",
       " 'output_location': '/otp/output/',\n",
       " 'start_frame': 0,\n",
       " 'tracker_config': {'_class_name': 'OnlineTrackerConfig',\n",
       "  'associator_config': {'_class_name': 'SpatialAssociatorConfig',\n",
       "   'threshold': 12},\n",
       "  'tracklet_config': {'_class_name': 'SimpleTrackletConfig',\n",
       "   'lost_threshold': 1,\n",
       "   'motion_model_config': {'_class_name': 'DummyMotionModelConfig'}}},\n",
       " 'video_config': {'_class_name': 'RawVideoConfig',\n",
       "  'ground_truth_path': 's3://hudl-holmes/recordings/stamford_bridge/chelsea_v_utd_u21/truth_000.json',\n",
       "  'video_id': 'ChvUtd-000',\n",
       "  'video_path': 's3://hudl-holmes/recordings/stamford_bridge/chelsea_v_utd_u21/processed_000.mp4'}}"
      ]
     },
     "execution_count": 26,
     "metadata": {},
     "output_type": "execute_result"
    }
   ],
   "source": [
    "configs[0]"
   ]
  },
  {
   "cell_type": "code",
   "execution_count": null,
   "metadata": {
    "collapsed": true
   },
   "outputs": [],
   "source": []
  }
 ],
 "metadata": {
  "anaconda-cloud": {},
  "celltoolbar": "Hide code",
  "kernelspec": {
   "display_name": "Python 3",
   "language": "python",
   "name": "python3"
  },
  "language_info": {
   "codemirror_mode": {
    "name": "ipython",
    "version": 3
   },
   "file_extension": ".py",
   "mimetype": "text/x-python",
   "name": "python",
   "nbconvert_exporter": "python",
   "pygments_lexer": "ipython3",
   "version": "3.5.3"
  },
  "varInspector": {
   "cols": {
    "lenName": 16,
    "lenType": 16,
    "lenVar": 40
   },
   "kernels_config": {
    "python": {
     "delete_cmd_postfix": "",
     "delete_cmd_prefix": "del ",
     "library": "var_list.py",
     "varRefreshCmd": "print(var_dic_list())"
    },
    "r": {
     "delete_cmd_postfix": ") ",
     "delete_cmd_prefix": "rm(",
     "library": "var_list.r",
     "varRefreshCmd": "cat(var_dic_list()) "
    }
   },
   "oldHeight": 123.18181799999999,
   "position": {
    "height": "40px",
    "left": "1053.18px",
    "right": "20px",
    "top": "5.97159px",
    "width": "250px"
   },
   "types_to_exclude": [
    "module",
    "function",
    "builtin_function_or_method",
    "instance",
    "_Feature"
   ],
   "varInspector_section_display": "none",
   "window_display": true
  }
 },
 "nbformat": 4,
 "nbformat_minor": 1
}
