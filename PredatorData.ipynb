{
 "cells": [
  {
   "cell_type": "code",
   "execution_count": 106,
   "metadata": {},
   "outputs": [],
   "source": [
    "from keystonexl.client import PredatorClient\n",
    "from keystonexl.base import PitchSide\n",
    "import numpy as np\n",
    "import enum\n",
    "%load_ext autotime"
   ]
  },
  {
   "cell_type": "code",
   "execution_count": 3,
   "metadata": {
    "collapsed": true
   },
   "outputs": [],
   "source": [
    "base_path = '/Users/jason.katz/Downloads'\n",
    "predator_client = PredatorClient.from_paths(moment_path='{}/SAMPLE.hudlproj/momentsSave.json'.format(base_path), \n",
    "                                            tracking_path='{}/SAMPLE.hudlproj/trackingSave.json'.format(base_path))"
   ]
  },
  {
   "cell_type": "code",
   "execution_count": 4,
   "metadata": {
    "collapsed": true
   },
   "outputs": [],
   "source": [
    "class AlwaysTrue(enum.Enum):\n",
    "    yes = 1\n",
    "    no = 0\n",
    "\n",
    "class FreeKick(enum.Enum):\n",
    "    yes = 1\n",
    "    no = 0\n",
    "    \n",
    "class Corner(enum.Enum):\n",
    "    yes = 1\n",
    "    no = 0\n",
    "    \n",
    "class Cross(enum.Enum):\n",
    "    yes = 1\n",
    "    no = 0\n",
    "    \n",
    "class ThrowIn(enum.Enum):\n",
    "    yes = 1\n",
    "    no = 0\n",
    "    \n",
    "class Header(enum.Enum):\n",
    "    yes = 1\n",
    "    no = 0\n",
    "    \n",
    "class Made(enum.Enum):\n",
    "    yes = 1\n",
    "    no = 0"
   ]
  },
  {
   "cell_type": "code",
   "execution_count": 190,
   "metadata": {
    "scrolled": true
   },
   "outputs": [
    {
     "data": {
      "text/plain": [
       "<__main__.Game at 0x11e0434a8>"
      ]
     },
     "execution_count": 190,
     "metadata": {},
     "output_type": "execute_result"
    },
    {
     "name": "stdout",
     "output_type": "stream",
     "text": [
      "time: 1.28 s\n"
     ]
    }
   ],
   "source": [
    "Game(predator_client)"
   ]
  },
  {
   "cell_type": "code",
   "execution_count": 189,
   "metadata": {},
   "outputs": [
    {
     "name": "stdout",
     "output_type": "stream",
     "text": [
      "time: 23.2 ms\n"
     ]
    }
   ],
   "source": [
    "class Game(object):\n",
    "    def __init__(self, predator_client):\n",
    "        self.predator_client = predator_client\n",
    "        self.game_id = np.random.rand()\n",
    "        self.shots = self.extract_data()\n",
    "        self.first_shot = self.shots[0]   \n",
    "        self.first_shot_period_num = self.first_shot['period_num']\n",
    "        self.first_shot_team_id = predator_client.get_value(self.first_shot, 'team_id')\n",
    "        self.first_shot_team_type = predator_client.team_type(self.first_shot_team_id)\n",
    "        self.first_shot_goal_side = predator_client.estimate_defending_half(self.first_shot_team_type, \n",
    "                                                                            self.first_shot_period_num)\n",
    "        self.shots = [Shot(shot, self.game_id, self.predator_client, self.first_shot_period_num, self.first_shot_team_type, \n",
    "                           self.first_shot_goal_side) for shot in self.shots]\n",
    "        \n",
    "    def extract_data(self):\n",
    "        extracted_moments = self.predator_client.moments\n",
    "        shots = []\n",
    "        for idx, moment in enumerate(extracted_moments):\n",
    "            extracted_moments[idx]['index'] = idx\n",
    "            frame = self.predator_client.frame_from_time(moment['period_num'], moment['end_ms'])\n",
    "            try:\n",
    "                player_id = self.predator_client.get_value(moment, 'player_id')\n",
    "                player_idx = self.predator_client.lookup_from_df('queryable_id', player_id, 'tracking_index')\n",
    "                extracted_moments[idx]['x'] = self.predator_client.tracking_array[frame, player_idx, :2][0]\n",
    "            except:\n",
    "                if moment['end_ms'] < 1.0:\n",
    "                    extracted_moments[idx]['x'] = 0.0\n",
    "                else:\n",
    "                    extracted_moments[idx]['x'] = extracted_moments[idx-1]['x']\n",
    "            if self.predator_client.has_tag(moment, 'shot'):\n",
    "                moment['speed_3'] = abs(extracted_moments[idx-3]['x'] - moment['x']) / (moment['end_ms'] - extracted_moments[idx-3]['end_ms']) * 1000\n",
    "                moment['speed_5'] = abs(extracted_moments[idx-5]['x'] - moment['x']) / (moment['end_ms'] - extracted_moments[idx-5]['end_ms']) * 1000\n",
    "                shots.append(moment)\n",
    "        return shots\n",
    "    "
   ]
  },
  {
   "cell_type": "code",
   "execution_count": 160,
   "metadata": {},
   "outputs": [
    {
     "name": "stdout",
     "output_type": "stream",
     "text": [
      "time: 191 ms\n"
     ]
    }
   ],
   "source": [
    "class Shot(object):\n",
    "    def __init__(self, shot, game_id, predator_client, first_shot_period_num, first_shot_team_type, first_shot_goal_side):\n",
    "        self.shot = shot\n",
    "        self.game_id = game_id\n",
    "        self.predator_client = predator_client\n",
    "        self.first_shot_period_num = first_shot_period_num\n",
    "        self.first_shot_team_type = first_shot_team_type\n",
    "        self.first_shot_goal_side = first_shot_goal_side\n",
    "    \n",
    "            \n",
    "    @property\n",
    "    def always_true(self):\n",
    "        return AlwaysTrue.yes\n",
    "    \n",
    "    @property\n",
    "    def teams(self):\n",
    "        return predator_client.teams\n",
    "    \n",
    "    def get_team_idx(self, team_type):\n",
    "        for idx, team in enumerate(self.teams):\n",
    "            if team['team_type'] == team_type:\n",
    "                return idx\n",
    "    \n",
    "    @property\n",
    "    def home_team_idx(self):\n",
    "        return self.get_team_idx('home')\n",
    "    \n",
    "    @property\n",
    "    def away_team_idx(self):\n",
    "        return self.get_team_idx('away')\n",
    "    \n",
    "    @property\n",
    "    def frame(self):\n",
    "        return predator_client.frame_from_time(self.shot['period_num'], self.shot['end_ms'])\n",
    "    \n",
    "    @property\n",
    "    def period_num(self):\n",
    "        return self.shot['period_num']\n",
    "    \n",
    "    @property\n",
    "    def team_id(self):\n",
    "        return predator_client.get_value(self.shot, 'team_id')\n",
    "    \n",
    "    @property\n",
    "    def home_team_id(self):\n",
    "        return self.teams[self.home_team_idx]['hudl_team_id']\n",
    "    \n",
    "    @property\n",
    "    def home_team_name(self):\n",
    "        return self.teams[self.home_team_idx]['team_name']\n",
    "    \n",
    "    @property\n",
    "    def away_team_id(self):\n",
    "        return self.teams[self.away_team_idx]['hudl_team_id']\n",
    "    \n",
    "    @property\n",
    "    def away_team_name(self):\n",
    "        return self.teams[self.away_team_idx]['team_name']\n",
    "        \n",
    "    @property\n",
    "    def team_type(self):\n",
    "        return predator_client.team_type(self.team_id)\n",
    "    \n",
    "    @property\n",
    "    def goal_side(self):\n",
    "        if self.period_num == self.first_shot_period_num: \n",
    "            if self.team_type == self.first_shot_team_type:\n",
    "                return self.first_shot_goal_side\n",
    "            else:\n",
    "                if self.first_shot_goal_side.name == 'left':\n",
    "                    return PitchSide.right\n",
    "                else:\n",
    "                    return PitchSide.left\n",
    "        elif self.period_num == 1 or self.period_num == 2:\n",
    "            if self.team_type == self.first_shot_team_type:\n",
    "                if self.first_shot_goal_side.name == 'left':\n",
    "                    return PitchSide.right\n",
    "                else:\n",
    "                    return PitchSide.left\n",
    "            else:\n",
    "                return self.first_shot_goal_side\n",
    "        else:\n",
    "            return predator_client.estimate_defending_half(self.team_type, self.period_num )\n",
    "        \n",
    "    @property\n",
    "    def goal_x(self):\n",
    "        if self.goal_side == PitchSide.right:\n",
    "            return predator_client.pitch_width * -.5\n",
    "        else:\n",
    "            return predator_client.pitch_width * .5\n",
    "        \n",
    "    @property\n",
    "    def goal_coords(self):\n",
    "        return np.array([self.goal_x, 0])\n",
    "    \n",
    "    @property\n",
    "    def player_id(self):\n",
    "        return predator_client.get_value(self.shot, 'player_id')\n",
    "        \n",
    "    @property\n",
    "    def player_idx(self):\n",
    "        return predator_client.lookup_from_df('queryable_id', self.player_id, 'tracking_index')\n",
    "    \n",
    "    @property\n",
    "    def player_coords(self):\n",
    "        return predator_client.tracking_array[self.frame, self.player_idx, :2]\n",
    "    \n",
    "    @property\n",
    "    def x(self):\n",
    "        return self.player_coords[0]\n",
    "    \n",
    "    @property\n",
    "    def y(self):\n",
    "        return self.player_coords[1]\n",
    "        \n",
    "    @property\n",
    "    def distance(self):\n",
    "        return np.linalg.norm(self.player_coords - self.goal_coords)\n",
    "    \n",
    "    def has_attribute(self, event_type):\n",
    "        in_list = False\n",
    "        while not in_list:\n",
    "            for descriptor in self.shot['tags']:\n",
    "                if descriptor['key'] == event_type:\n",
    "                    in_list = True\n",
    "            break\n",
    "        return in_list\n",
    "    \n",
    "    @property\n",
    "    def free_kick(self):\n",
    "        if self.has_attribute('free kick'):\n",
    "            return FreeKick.yes\n",
    "        else:\n",
    "            return FreeKick.no\n",
    "        \n",
    "    @property\n",
    "    def corner(self):\n",
    "        if self.has_attribute('corner'):\n",
    "            return Corner.yes\n",
    "        else:\n",
    "            return Corner.no\n",
    "        \n",
    "    @property\n",
    "    def cross(self):\n",
    "        if self.has_attribute('cross'):\n",
    "            return Cross.yes\n",
    "        else:\n",
    "            return Cross.no\n",
    "        \n",
    "    @property\n",
    "    def throw_in(self):\n",
    "        if self.has_attribute('throw in'):\n",
    "            return ThrowIn.yes\n",
    "        else:\n",
    "            return ThrowIn.no\n",
    "        \n",
    "    @property\n",
    "    def header(self):\n",
    "        if self.has_attribute('header'):\n",
    "            return Header.yes\n",
    "        else:\n",
    "            return Header.no\n",
    "        \n",
    "    @property\n",
    "    def made(self):\n",
    "        if self.has_attribute('goal'):\n",
    "            return Made.yes\n",
    "        else:\n",
    "            return Made.no\n",
    "        \n",
    "    @property\n",
    "    def speed_3(self):\n",
    "        return self.shot['speed_3']\n",
    "    \n",
    "    @property\n",
    "    def speed_5(self):\n",
    "        return self.shot['speed_5']"
   ]
  },
  {
   "cell_type": "code",
   "execution_count": null,
   "metadata": {
    "collapsed": true
   },
   "outputs": [],
   "source": []
  }
 ],
 "metadata": {
  "kernelspec": {
   "display_name": "Python 3",
   "language": "python",
   "name": "python3"
  },
  "varInspector": {
   "cols": {
    "lenName": 16,
    "lenType": 16,
    "lenVar": 40
   },
   "kernels_config": {
    "python": {
     "delete_cmd_postfix": "",
     "delete_cmd_prefix": "del ",
     "library": "var_list.py",
     "varRefreshCmd": "print(var_dic_list())"
    },
    "r": {
     "delete_cmd_postfix": ") ",
     "delete_cmd_prefix": "rm(",
     "library": "var_list.r",
     "varRefreshCmd": "cat(var_dic_list()) "
    }
   },
   "types_to_exclude": [
    "module",
    "function",
    "builtin_function_or_method",
    "instance",
    "_Feature"
   ],
   "window_display": false
  }
 },
 "nbformat": 4,
 "nbformat_minor": 2
}
